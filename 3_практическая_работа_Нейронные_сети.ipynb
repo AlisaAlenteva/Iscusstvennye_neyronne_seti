{
  "cells": [
    {
      "cell_type": "markdown",
      "metadata": {
        "id": "view-in-github",
        "colab_type": "text"
      },
      "source": [
        "<a href=\"https://colab.research.google.com/github/AlisaAlenteva/Iscusstvennye_neyronne_seti/blob/main/3_%D0%BF%D1%80%D0%B0%D0%BA%D1%82%D0%B8%D1%87%D0%B5%D1%81%D0%BA%D0%B0%D1%8F_%D1%80%D0%B0%D0%B1%D0%BE%D1%82%D0%B0_%D0%9D%D0%B5%D0%B9%D1%80%D0%BE%D0%BD%D0%BD%D1%8B%D0%B5_%D1%81%D0%B5%D1%82%D0%B8.ipynb\" target=\"_parent\"><img src=\"https://colab.research.google.com/assets/colab-badge.svg\" alt=\"Open In Colab\"/></a>"
      ]
    },
    {
      "cell_type": "markdown",
      "metadata": {
        "id": "uib7kyuQb2U8"
      },
      "source": [
        "# Задание 1"
      ]
    },
    {
      "cell_type": "markdown",
      "metadata": {
        "id": "wbtLqCSwcjsw"
      },
      "source": [
        "## 1.1. Устанавливаем необходимые зависимости"
      ]
    },
    {
      "cell_type": "code",
      "execution_count": null,
      "metadata": {
        "id": "TkW2Rbu5bu9f"
      },
      "outputs": [],
      "source": [
        "from keras.datasets import fashion_mnist # импорт исходного датасета\n",
        "from keras.models import Sequential\n",
        " \n",
        "from keras.layers import Conv2D, MaxPooling2D, Dense, Flatten\n",
        " \n",
        "from keras.optimizers import Adam, SGD\n",
        "import matplotlib.pyplot as plt\n",
        "import numpy as np\n",
        "import keras"
      ]
    },
    {
      "cell_type": "markdown",
      "metadata": {
        "id": "AH8jfd2Qch5m"
      },
      "source": [
        "## 1.2. Разделяем данные на обучающую и тестовую выборку"
      ]
    },
    {
      "cell_type": "code",
      "execution_count": null,
      "metadata": {
        "colab": {
          "base_uri": "https://localhost:8080/"
        },
        "id": "Uf5jhjdacBvu",
        "outputId": "de1496fb-b85e-4e33-f32d-db4c586e6c90"
      },
      "outputs": [
        {
          "output_type": "stream",
          "name": "stdout",
          "text": [
            "Downloading data from https://storage.googleapis.com/tensorflow/tf-keras-datasets/train-labels-idx1-ubyte.gz\n",
            "29515/29515 [==============================] - 0s 0us/step\n",
            "Downloading data from https://storage.googleapis.com/tensorflow/tf-keras-datasets/train-images-idx3-ubyte.gz\n",
            "26421880/26421880 [==============================] - 1s 0us/step\n",
            "Downloading data from https://storage.googleapis.com/tensorflow/tf-keras-datasets/t10k-labels-idx1-ubyte.gz\n",
            "5148/5148 [==============================] - 0s 0us/step\n",
            "Downloading data from https://storage.googleapis.com/tensorflow/tf-keras-datasets/t10k-images-idx3-ubyte.gz\n",
            "4422102/4422102 [==============================] - 0s 0us/step\n",
            "Train: X =  (60000, 28, 28, 1)\n",
            "Test: X =  (10000, 28, 28, 1)\n",
            "(60000, 10)\n"
          ]
        }
      ],
      "source": [
        "(trainX, trainy), (testX, testy) = fashion_mnist.load_data()\n",
        "\n",
        "trainX = trainX / 255\n",
        "testX = testX / 255\n",
        "\n",
        "trainy = keras.utils.to_categorical(trainy, 10)\n",
        "testy = keras.utils.to_categorical(testy, 10)\n",
        "\n",
        "trainX = np.expand_dims(trainX, axis=3)\n",
        "testX = np.expand_dims(testX, axis=3)\n",
        "\n",
        "\n",
        "print('Train: X = ', trainX.shape)\n",
        "print('Test: X = ', testX.shape)\n",
        "\n",
        "print(trainy.shape)"
      ]
    },
    {
      "cell_type": "markdown",
      "metadata": {
        "id": "CZtG44sUcaxg"
      },
      "source": [
        "## 1.3. Визуализируем часть данных из датасета"
      ]
    },
    {
      "cell_type": "code",
      "execution_count": null,
      "metadata": {
        "colab": {
          "base_uri": "https://localhost:8080/"
        },
        "id": "vGyV8fSzcQ5W",
        "outputId": "56277174-5d69-4293-d96b-e43f919d04ed"
      },
      "outputs": [
        {
          "output_type": "display_data",
          "data": {
            "text/plain": [
              "<Figure size 640x480 with 9 Axes>"
            ],
            "image/png": "[encoded data removed]"
          },
          "metadata": {}
        }
      ],
      "source": [
        "for i in range(1, 10):\n",
        "    plt.subplot(3, 3, i)\n",
        "    plt.imshow(trainX[i], cmap=plt.get_cmap('gray'))\n",
        " \n",
        "plt.show()"
      ]
    },
    {
      "cell_type": "markdown",
      "metadata": {
        "id": "a9vl8RxOcW9U"
      },
      "source": [
        "## 1.4. Создаём архитектуру нейронной сети и компилируем модель\n"
      ]
    },
    {
      "cell_type": "code",
      "execution_count": null,
      "metadata": {
        "colab": {
          "base_uri": "https://localhost:8080/"
        },
        "id": "faJqsJOsdupN",
        "outputId": "8a090237-5dc0-43be-a13b-7d1c6b8f5a35"
      },
      "outputs": [
        {
          "output_type": "stream",
          "name": "stdout",
          "text": [
            "Model: \"sequential\"\n",
            "_________________________________________________________________\n",
            " Layer (type)                Output Shape              Param #   \n",
            "=================================================================\n",
            " conv2d (Conv2D)             (None, 28, 28, 32)        320       \n",
            "                                                                 \n",
            " max_pooling2d (MaxPooling2D  (None, 14, 14, 32)       0         \n",
            " )                                                               \n",
            "                                                                 \n",
            " conv2d_1 (Conv2D)           (None, 14, 14, 64)        18496     \n",
            "                                                                 \n",
            " max_pooling2d_1 (MaxPooling  (None, 7, 7, 64)         0         \n",
            " 2D)                                                             \n",
            "                                                                 \n",
            " flatten (Flatten)           (None, 3136)              0         \n",
            "                                                                 \n",
            " dense (Dense)               (None, 128)               401536    \n",
            "                                                                 \n",
            " dense_1 (Dense)             (None, 10)                1290      \n",
            "                                                                 \n",
            "=================================================================\n",
            "Total params: 421,642\n",
            "Trainable params: 421,642\n",
            "Non-trainable params: 0\n",
            "_________________________________________________________________\n"
          ]
        }
      ],
      "source": [
        "from keras.models import Sequential\n",
        "from keras.layers import Dense\n",
        "model = Sequential([\n",
        "    Conv2D(32, (3,3), padding='same', activation='relu', input_shape=(28, 28, 1)),\n",
        "    MaxPooling2D((2, 2), strides=2),\n",
        "    Conv2D(64, (3,3), padding='same', activation='relu'),\n",
        "    MaxPooling2D((2, 2), strides=2),\n",
        "    Flatten(),\n",
        "    Dense(128, activation='relu'),\n",
        "    Dense(10,  activation='softmax')\n",
        "])\n",
        "\n",
        "model.summary()"
      ]
    },
    {
      "cell_type": "markdown",
      "metadata": {
        "id": "EDnu0V5Bejh3"
      },
      "source": [
        "## 1.5. Обучаем модель"
      ]
    },
    {
      "cell_type": "code",
      "execution_count": null,
      "metadata": {
        "colab": {
          "base_uri": "https://localhost:8080/"
        },
        "id": "RDbmsKeaegF6",
        "outputId": "b4ff02c4-177d-4ec6-d90a-0390da6e44e3"
      },
      "outputs": [
        {
          "output_type": "stream",
          "name": "stdout",
          "text": [
            "Epoch 1/3\n",
            "750/750 [==============================] - 109s 139ms/step - loss: 0.4483 - accuracy: 0.8406 - val_loss: 0.3442 - val_accuracy: 0.8806\n",
            "Epoch 2/3\n",
            "750/750 [==============================] - 84s 112ms/step - loss: 0.2910 - accuracy: 0.8946 - val_loss: 0.2918 - val_accuracy: 0.8961\n",
            "Epoch 3/3\n",
            "750/750 [==============================] - 88s 117ms/step - loss: 0.2458 - accuracy: 0.9105 - val_loss: 0.2607 - val_accuracy: 0.9047\n",
            "313/313 [==============================] - 7s 22ms/step - loss: 0.2709 - accuracy: 0.9016\n"
          ]
        },
        {
          "output_type": "execute_result",
          "data": {
            "text/plain": [
              "[0.27093297243118286, 0.9016000032424927]"
            ]
          },
          "metadata": {},
          "execution_count": 5
        }
      ],
      "source": [
        "EPOCH = 3\n",
        "\n",
        "model.compile(optimizer='adam',\n",
        "             loss='categorical_crossentropy',\n",
        "             metrics=['accuracy'])\n",
        "\n",
        "\n",
        "history = model.fit(trainX, trainy, batch_size=64, epochs=EPOCH, validation_split=0.2)\n",
        " \n",
        "model.evaluate(testX, testy)"
      ]
    },
    {
      "cell_type": "markdown",
      "metadata": {
        "id": "eGeY80iWhlSD"
      },
      "source": [
        "## 1.6. Анализируем обученную модель. Строим график (графики) обучения"
      ]
    },
    {
      "cell_type": "code",
      "execution_count": null,
      "metadata": {
        "colab": {
          "base_uri": "https://localhost:8080/"
        },
        "id": "EoZp_2Tuhqk0",
        "outputId": "ea16b035-29d1-4873-aad6-7e7b273269e6"
      },
      "outputs": [
        {
          "output_type": "execute_result",
          "data": {
            "text/plain": [
              "<matplotlib.legend.Legend at 0x7f1f90331580>"
            ]
          },
          "metadata": {},
          "execution_count": 6
        },
        {
          "output_type": "display_data",
          "data": {
            "text/plain": [
              "<Figure size 640x480 with 1 Axes>"
            ],
            "image/png": "[encoded data removed]"
          },
          "metadata": {}
        }
      ],
      "source": [
        "N = np.arange(0, EPOCH)\n",
        "plt.style.use(\"ggplot\")\n",
        "plt.figure()\n",
        "plt.plot(N, history.history[\"loss\"], label=\"train_loss\")\n",
        "plt.plot(N, history.history[\"val_loss\"], label=\"val_loss\")\n",
        "plt.plot(N, history.history[\"accuracy\"], label=\"train_accuracy\")\n",
        "plt.plot(N, history.history[\"val_accuracy\"], label=\"val_accuracy\")\n",
        "plt.title(\"Training Loss and Accuracy (Simple NN)\")\n",
        "plt.xlabel(\"EPOCH #\")\n",
        "plt.ylabel(\"Loss/Accuracy\")\n",
        "plt.legend()"
      ]
    },
    {
      "cell_type": "markdown",
      "metadata": {
        "id": "1kqfdRiQhzjT"
      },
      "source": [
        "## 1.7. Загружаем свои изображения. С помощью функции predict() получаем предсказание нейронной сети"
      ]
    },
    {
      "cell_type": "code",
      "execution_count": null,
      "metadata": {
        "colab": {
          "base_uri": "https://localhost:8080/"
        },
        "id": "xHHJVSkgh2S8",
        "outputId": "c2c39469-f3f4-46dc-e9c9-7a0049a597c2"
      },
      "outputs": [
        {
          "output_type": "display_data",
          "data": {
            "text/plain": [
              "<IPython.core.display.HTML object>"
            ],
            "text/html": [
              "\n",
              "     <input type=\"file\" id=\"files-ee899f19-5618-4e3f-bdd9-b90b04999913\" name=\"files[]\" multiple disabled\n",
              "        style=\"border:none\" />\n",
              "     <output id=\"result-ee899f19-5618-4e3f-bdd9-b90b04999913\">\n",
              "      Upload widget is only available when the cell has been executed in the\n",
              "      current browser session. Please rerun this cell to enable.\n",
              "      </output>\n",
              "      <script>// Copyright 2017 Google LLC\n",
              "//\n",
              "// Licensed under the Apache License, Version 2.0 (the \"License\");\n",
              "// you may not use this file except in compliance with the License.\n",
              "// You may obtain a copy of the License at\n",
              "//\n",
              "//      http://www.apache.org/licenses/LICENSE-2.0\n",
              "//\n",
              "// Unless required by applicable law or agreed to in writing, software\n",
              "// distributed under the License is distributed on an \"AS IS\" BASIS,\n",
              "// WITHOUT WARRANTIES OR CONDITIONS OF ANY KIND, either express or implied.\n",
              "// See the License for the specific language governing permissions and\n",
              "// limitations under the License.\n",
              "\n",
              "/**\n",
              " * @fileoverview Helpers for google.colab Python module.\n",
              " */\n",
              "(function(scope) {\n",
              "function span(text, styleAttributes = {}) {\n",
              "  const element = document.createElement('span');\n",
              "  element.textContent = text;\n",
              "  for (const key of Object.keys(styleAttributes)) {\n",
              "    element.style[key] = styleAttributes[key];\n",
              "  }\n",
              "  return element;\n",
              "}\n",
              "\n",
              "// Max number of bytes which will be uploaded at a time.\n",
              "const MAX_PAYLOAD_SIZE = 100 * 1024;\n",
              "\n",
              "function _uploadFiles(inputId, outputId) {\n",
              "  const steps = uploadFilesStep(inputId, outputId);\n",
              "  const outputElement = document.getElementById(outputId);\n",
              "  // Cache steps on the outputElement to make it available for the next call\n",
              "  // to uploadFilesContinue from Python.\n",
              "  outputElement.steps = steps;\n",
              "\n",
              "  return _uploadFilesContinue(outputId);\n",
              "}\n",
              "\n",
              "// This is roughly an async generator (not supported in the browser yet),\n",
              "// where there are multiple asynchronous steps and the Python side is going\n",
              "// to poll for completion of each step.\n",
              "// This uses a Promise to block the python side on completion of each step,\n",
              "// then passes the result of the previous step as the input to the next step.\n",
              "function _uploadFilesContinue(outputId) {\n",
              "  const outputElement = document.getElementById(outputId);\n",
              "  const steps = outputElement.steps;\n",
              "\n",
              "  const next = steps.next(outputElement.lastPromiseValue);\n",
              "  return Promise.resolve(next.value.promise).then((value) => {\n",
              "    // Cache the last promise value to make it available to the next\n",
              "    // step of the generator.\n",
              "    outputElement.lastPromiseValue = value;\n",
              "    return next.value.response;\n",
              "  });\n",
              "}\n",
              "\n",
              "/**\n",
              " * Generator function which is called between each async step of the upload\n",
              " * process.\n",
              " * @param {string} inputId Element ID of the input file picker element.\n",
              " * @param {string} outputId Element ID of the output display.\n",
              " * @return {!Iterable<!Object>} Iterable of next steps.\n",
              " */\n",
              "function* uploadFilesStep(inputId, outputId) {\n",
              "  const inputElement = document.getElementById(inputId);\n",
              "  inputElement.disabled = false;\n",
              "\n",
              "  const outputElement = document.getElementById(outputId);\n",
              "  outputElement.innerHTML = '';\n",
              "\n",
              "  const pickedPromise = new Promise((resolve) => {\n",
              "    inputElement.addEventListener('change', (e) => {\n",
              "      resolve(e.target.files);\n",
              "    });\n",
              "  });\n",
              "\n",
              "  const cancel = document.createElement('button');\n",
              "  inputElement.parentElement.appendChild(cancel);\n",
              "  cancel.textContent = 'Cancel upload';\n",
              "  const cancelPromise = new Promise((resolve) => {\n",
              "    cancel.onclick = () => {\n",
              "      resolve(null);\n",
              "    };\n",
              "  });\n",
              "\n",
              "  // Wait for the user to pick the files.\n",
              "  const files = yield {\n",
              "    promise: Promise.race([pickedPromise, cancelPromise]),\n",
              "    response: {\n",
              "      action: 'starting',\n",
              "    }\n",
              "  };\n",
              "\n",
              "  cancel.remove();\n",
              "\n",
              "  // Disable the input element since further picks are not allowed.\n",
              "  inputElement.disabled = true;\n",
              "\n",
              "  if (!files) {\n",
              "    return {\n",
              "      response: {\n",
              "        action: 'complete',\n",
              "      }\n",
              "    };\n",
              "  }\n",
              "\n",
              "  for (const file of files) {\n",
              "    const li = document.createElement('li');\n",
              "    li.append(span(file.name, {fontWeight: 'bold'}));\n",
              "    li.append(span(\n",
              "        `(${file.type || 'n/a'}) - ${file.size} bytes, ` +\n",
              "        `last modified: ${\n",
              "            file.lastModifiedDate ? file.lastModifiedDate.toLocaleDateString() :\n",
              "                                    'n/a'} - `));\n",
              "    const percent = span('0% done');\n",
              "    li.appendChild(percent);\n",
              "\n",
              "    outputElement.appendChild(li);\n",
              "\n",
              "    const fileDataPromise = new Promise((resolve) => {\n",
              "      const reader = new FileReader();\n",
              "      reader.onload = (e) => {\n",
              "        resolve(e.target.result);\n",
              "      };\n",
              "      reader.readAsArrayBuffer(file);\n",
              "    });\n",
              "    // Wait for the data to be ready.\n",
              "    let fileData = yield {\n",
              "      promise: fileDataPromise,\n",
              "      response: {\n",
              "        action: 'continue',\n",
              "      }\n",
              "    };\n",
              "\n",
              "    // Use a chunked sending to avoid message size limits. See b/62115660.\n",
              "    let position = 0;\n",
              "    do {\n",
              "      const length = Math.min(fileData.byteLength - position, MAX_PAYLOAD_SIZE);\n",
              "      const chunk = new Uint8Array(fileData, position, length);\n",
              "      position += length;\n",
              "\n",
              "      const base64 = btoa(String.fromCharCode.apply(null, chunk));\n",
              "      yield {\n",
              "        response: {\n",
              "          action: 'append',\n",
              "          file: file.name,\n",
              "          data: base64,\n",
              "        },\n",
              "      };\n",
              "\n",
              "      let percentDone = fileData.byteLength === 0 ?\n",
              "          100 :\n",
              "          Math.round((position / fileData.byteLength) * 100);\n",
              "      percent.textContent = `${percentDone}% done`;\n",
              "\n",
              "    } while (position < fileData.byteLength);\n",
              "  }\n",
              "\n",
              "  // All done.\n",
              "  yield {\n",
              "    response: {\n",
              "      action: 'complete',\n",
              "    }\n",
              "  };\n",
              "}\n",
              "\n",
              "scope.google = scope.google || {};\n",
              "scope.google.colab = scope.google.colab || {};\n",
              "scope.google.colab._files = {\n",
              "  _uploadFiles,\n",
              "  _uploadFilesContinue,\n",
              "};\n",
              "})(self);\n",
              "</script> "
            ]
          },
          "metadata": {}
        },
        {
          "output_type": "stream",
          "name": "stdout",
          "text": [
            "Saving 60f02fb383267508f54d8e8cc6503b41.jpg to 60f02fb383267508f54d8e8cc6503b41.jpg\n"
          ]
        },
        {
          "output_type": "display_data",
          "data": {
            "text/plain": [
              "<PIL.Image.Image image mode=L size=28x28 at 0x7F1F902A4760>"
            ],
            "image/png": "[encoded data removed]"
          },
          "metadata": {}
        }
      ],
      "source": [
        "import cv2\n",
        "from google.colab.patches import cv2_imshow\n",
        "\n",
        "from google.colab import files\n",
        "uploaded = files.upload() \n",
        "\n",
        "\n",
        "\n",
        "image = cv2.imread(list(uploaded.keys())[0], cv2.IMREAD_GRAYSCALE) \n",
        "image = cv2.resize(image, (28, 28)) \n",
        "# image = cv2.bitwise_not(image)\n",
        "orig = image\n",
        "image = image.reshape(-1, 28, 28, 1) \n",
        "\n",
        "cv2_imshow(orig)"
      ]
    },
    {
      "cell_type": "code",
      "execution_count": null,
      "metadata": {
        "colab": {
          "base_uri": "https://localhost:8080/"
        },
        "id": "LqZZ4tfqh9iE",
        "outputId": "dc4a861d-d364-402e-a3af-4bd48f0da946"
      },
      "outputs": [
        {
          "output_type": "stream",
          "name": "stdout",
          "text": [
            "1/1 [==============================] - 0s 179ms/step\n",
            "[[0. 0. 0. 0. 0. 0. 1. 0. 0. 0.]]\n"
          ]
        }
      ],
      "source": [
        "preds = model.predict(image)\n",
        "print(preds)"
      ]
    },
    {
      "cell_type": "code",
      "execution_count": null,
      "metadata": {
        "colab": {
          "base_uri": "https://localhost:8080/"
        },
        "id": "rGMgklVViBwa",
        "outputId": "41c37af2-c5a3-46c7-9e22-3eeab2a042b3"
      },
      "outputs": [
        {
          "output_type": "stream",
          "name": "stdout",
          "text": [
            "Загружено: ('Shirt', array([[0., 0., 0., 0., 0., 0., 1., 0., 0., 0.]], dtype=float32))\n"
          ]
        }
      ],
      "source": [
        "i = preds.argmax(axis=1)[0]\n",
        "lab = ['T-shirt/top', 'Trouser', 'Pullover', 'Dress', 'Coat', 'Sandal', 'Shirt', 'Sneaker', 'Bag', 'Ankle boot']\n",
        "\n",
        "label = lab[i]\n",
        "print(f\"Загружено: { label, preds}\")"
      ]
    },
    {
      "cell_type": "markdown",
      "metadata": {
        "id": "obuOKRIBmWNc"
      },
      "source": [
        "### 1.8. Второе изображение"
      ]
    },
    {
      "cell_type": "code",
      "execution_count": null,
      "metadata": {
        "colab": {
          "base_uri": "https://localhost:8080/"
        },
        "id": "lvdvfwdWmWNd",
        "outputId": "b0e1e486-dc77-413a-b68f-8026b5652cb6"
      },
      "outputs": [
        {
          "output_type": "display_data",
          "data": {
            "text/plain": [
              "<IPython.core.display.HTML object>"
            ],
            "text/html": [
              "\n",
              "     <input type=\"file\" id=\"files-f45f9a8e-2c64-404e-96d9-4652e3e33911\" name=\"files[]\" multiple disabled\n",
              "        style=\"border:none\" />\n",
              "     <output id=\"result-f45f9a8e-2c64-404e-96d9-4652e3e33911\">\n",
              "      Upload widget is only available when the cell has been executed in the\n",
              "      current browser session. Please rerun this cell to enable.\n",
              "      </output>\n",
              "      <script>// Copyright 2017 Google LLC\n",
              "//\n",
              "// Licensed under the Apache License, Version 2.0 (the \"License\");\n",
              "// you may not use this file except in compliance with the License.\n",
              "// You may obtain a copy of the License at\n",
              "//\n",
              "//      http://www.apache.org/licenses/LICENSE-2.0\n",
              "//\n",
              "// Unless required by applicable law or agreed to in writing, software\n",
              "// distributed under the License is distributed on an \"AS IS\" BASIS,\n",
              "// WITHOUT WARRANTIES OR CONDITIONS OF ANY KIND, either express or implied.\n",
              "// See the License for the specific language governing permissions and\n",
              "// limitations under the License.\n",
              "\n",
              "/**\n",
              " * @fileoverview Helpers for google.colab Python module.\n",
              " */\n",
              "(function(scope) {\n",
              "function span(text, styleAttributes = {}) {\n",
              "  const element = document.createElement('span');\n",
              "  element.textContent = text;\n",
              "  for (const key of Object.keys(styleAttributes)) {\n",
              "    element.style[key] = styleAttributes[key];\n",
              "  }\n",
              "  return element;\n",
              "}\n",
              "\n",
              "// Max number of bytes which will be uploaded at a time.\n",
              "const MAX_PAYLOAD_SIZE = 100 * 1024;\n",
              "\n",
              "function _uploadFiles(inputId, outputId) {\n",
              "  const steps = uploadFilesStep(inputId, outputId);\n",
              "  const outputElement = document.getElementById(outputId);\n",
              "  // Cache steps on the outputElement to make it available for the next call\n",
              "  // to uploadFilesContinue from Python.\n",
              "  outputElement.steps = steps;\n",
              "\n",
              "  return _uploadFilesContinue(outputId);\n",
              "}\n",
              "\n",
              "// This is roughly an async generator (not supported in the browser yet),\n",
              "// where there are multiple asynchronous steps and the Python side is going\n",
              "// to poll for completion of each step.\n",
              "// This uses a Promise to block the python side on completion of each step,\n",
              "// then passes the result of the previous step as the input to the next step.\n",
              "function _uploadFilesContinue(outputId) {\n",
              "  const outputElement = document.getElementById(outputId);\n",
              "  const steps = outputElement.steps;\n",
              "\n",
              "  const next = steps.next(outputElement.lastPromiseValue);\n",
              "  return Promise.resolve(next.value.promise).then((value) => {\n",
              "    // Cache the last promise value to make it available to the next\n",
              "    // step of the generator.\n",
              "    outputElement.lastPromiseValue = value;\n",
              "    return next.value.response;\n",
              "  });\n",
              "}\n",
              "\n",
              "/**\n",
              " * Generator function which is called between each async step of the upload\n",
              " * process.\n",
              " * @param {string} inputId Element ID of the input file picker element.\n",
              " * @param {string} outputId Element ID of the output display.\n",
              " * @return {!Iterable<!Object>} Iterable of next steps.\n",
              " */\n",
              "function* uploadFilesStep(inputId, outputId) {\n",
              "  const inputElement = document.getElementById(inputId);\n",
              "  inputElement.disabled = false;\n",
              "\n",
              "  const outputElement = document.getElementById(outputId);\n",
              "  outputElement.innerHTML = '';\n",
              "\n",
              "  const pickedPromise = new Promise((resolve) => {\n",
              "    inputElement.addEventListener('change', (e) => {\n",
              "      resolve(e.target.files);\n",
              "    });\n",
              "  });\n",
              "\n",
              "  const cancel = document.createElement('button');\n",
              "  inputElement.parentElement.appendChild(cancel);\n",
              "  cancel.textContent = 'Cancel upload';\n",
              "  const cancelPromise = new Promise((resolve) => {\n",
              "    cancel.onclick = () => {\n",
              "      resolve(null);\n",
              "    };\n",
              "  });\n",
              "\n",
              "  // Wait for the user to pick the files.\n",
              "  const files = yield {\n",
              "    promise: Promise.race([pickedPromise, cancelPromise]),\n",
              "    response: {\n",
              "      action: 'starting',\n",
              "    }\n",
              "  };\n",
              "\n",
              "  cancel.remove();\n",
              "\n",
              "  // Disable the input element since further picks are not allowed.\n",
              "  inputElement.disabled = true;\n",
              "\n",
              "  if (!files) {\n",
              "    return {\n",
              "      response: {\n",
              "        action: 'complete',\n",
              "      }\n",
              "    };\n",
              "  }\n",
              "\n",
              "  for (const file of files) {\n",
              "    const li = document.createElement('li');\n",
              "    li.append(span(file.name, {fontWeight: 'bold'}));\n",
              "    li.append(span(\n",
              "        `(${file.type || 'n/a'}) - ${file.size} bytes, ` +\n",
              "        `last modified: ${\n",
              "            file.lastModifiedDate ? file.lastModifiedDate.toLocaleDateString() :\n",
              "                                    'n/a'} - `));\n",
              "    const percent = span('0% done');\n",
              "    li.appendChild(percent);\n",
              "\n",
              "    outputElement.appendChild(li);\n",
              "\n",
              "    const fileDataPromise = new Promise((resolve) => {\n",
              "      const reader = new FileReader();\n",
              "      reader.onload = (e) => {\n",
              "        resolve(e.target.result);\n",
              "      };\n",
              "      reader.readAsArrayBuffer(file);\n",
              "    });\n",
              "    // Wait for the data to be ready.\n",
              "    let fileData = yield {\n",
              "      promise: fileDataPromise,\n",
              "      response: {\n",
              "        action: 'continue',\n",
              "      }\n",
              "    };\n",
              "\n",
              "    // Use a chunked sending to avoid message size limits. See b/62115660.\n",
              "    let position = 0;\n",
              "    do {\n",
              "      const length = Math.min(fileData.byteLength - position, MAX_PAYLOAD_SIZE);\n",
              "      const chunk = new Uint8Array(fileData, position, length);\n",
              "      position += length;\n",
              "\n",
              "      const base64 = btoa(String.fromCharCode.apply(null, chunk));\n",
              "      yield {\n",
              "        response: {\n",
              "          action: 'append',\n",
              "          file: file.name,\n",
              "          data: base64,\n",
              "        },\n",
              "      };\n",
              "\n",
              "      let percentDone = fileData.byteLength === 0 ?\n",
              "          100 :\n",
              "          Math.round((position / fileData.byteLength) * 100);\n",
              "      percent.textContent = `${percentDone}% done`;\n",
              "\n",
              "    } while (position < fileData.byteLength);\n",
              "  }\n",
              "\n",
              "  // All done.\n",
              "  yield {\n",
              "    response: {\n",
              "      action: 'complete',\n",
              "    }\n",
              "  };\n",
              "}\n",
              "\n",
              "scope.google = scope.google || {};\n",
              "scope.google.colab = scope.google.colab || {};\n",
              "scope.google.colab._files = {\n",
              "  _uploadFiles,\n",
              "  _uploadFilesContinue,\n",
              "};\n",
              "})(self);\n",
              "</script> "
            ]
          },
          "metadata": {}
        },
        {
          "output_type": "stream",
          "name": "stdout",
          "text": [
            "Saving Hdb92d0d1d35a410b8032c21fa8e8b5c6r.webp to Hdb92d0d1d35a410b8032c21fa8e8b5c6r.webp\n"
          ]
        },
        {
          "output_type": "display_data",
          "data": {
            "text/plain": [
              "<PIL.Image.Image image mode=L size=28x28 at 0x7F1F7BAA0100>"
            ],
            "image/png": "[encoded data removed]"
          },
          "metadata": {}
        }
      ],
      "source": [
        "import cv2\n",
        "from google.colab.patches import cv2_imshow\n",
        "\n",
        "from google.colab import files\n",
        "uploaded = files.upload() \n",
        "\n",
        "\n",
        "\n",
        "image = cv2.imread(list(uploaded.keys())[0], cv2.IMREAD_GRAYSCALE) \n",
        "image = cv2.resize(image, (28, 28)) \n",
        "# image = cv2.bitwise_not(image)\n",
        "orig = image\n",
        "image = image.reshape(-1, 28, 28, 1) \n",
        "\n",
        "cv2_imshow(orig)"
      ]
    },
    {
      "cell_type": "code",
      "execution_count": null,
      "metadata": {
        "id": "uBbnoqqmmWNd",
        "colab": {
          "base_uri": "https://localhost:8080/"
        },
        "outputId": "afe90c48-cbb2-4527-992f-68c11969ef9f"
      },
      "outputs": [
        {
          "output_type": "stream",
          "name": "stdout",
          "text": [
            "1/1 [==============================] - 0s 32ms/step\n",
            "[[0. 1. 0. 0. 0. 0. 0. 0. 0. 0.]]\n"
          ]
        }
      ],
      "source": [
        "preds = model.predict(image)\n",
        "print(preds)"
      ]
    },
    {
      "cell_type": "code",
      "execution_count": null,
      "metadata": {
        "colab": {
          "base_uri": "https://localhost:8080/"
        },
        "id": "pYqA4OpImWNd",
        "outputId": "1cff5c26-95c3-4bca-f4cf-d97fba3ccef0"
      },
      "outputs": [
        {
          "output_type": "stream",
          "name": "stdout",
          "text": [
            "Загружено: ('Trouser', array([[0., 1., 0., 0., 0., 0., 0., 0., 0., 0.]], dtype=float32))\n"
          ]
        }
      ],
      "source": [
        "i = preds.argmax(axis=1)[0]\n",
        "lab = ['T-shirt/top', 'Trouser', 'Pullover', 'Dress', 'Coat', 'Sandal', 'Shirt', 'Sneaker', 'Bag', 'Ankle boot']\n",
        "\n",
        "label = lab[i]\n",
        "print(f\"Загружено: { label, preds}\")"
      ]
    },
    {
      "cell_type": "markdown",
      "metadata": {
        "id": "1eRq9ZaccEEz"
      },
      "source": [
        "# Задание 2"
      ]
    },
    {
      "cell_type": "markdown",
      "metadata": {
        "id": "8a3r8z0mdJRf"
      },
      "source": [
        "## 2.1.  Используя датасет, собранный для предыдущей работы, разработайте и обучите **свою** модель глубокой  **сверточной** нейронной сети для классификации изображений"
      ]
    },
    {
      "cell_type": "markdown",
      "metadata": {
        "id": "7PFshxqjnW74"
      },
      "source": [
        "### Модель"
      ]
    },
    {
      "cell_type": "markdown",
      "metadata": {
        "id": "bSY-n0DTujH6"
      },
      "source": [
        "#### Датасет"
      ]
    },
    {
      "cell_type": "code",
      "execution_count": null,
      "metadata": {
        "id": "YUaAIPGGx2gA"
      },
      "outputs": [],
      "source": [
        "import matplotlib\n",
        "matplotlib.use(\"Agg\")"
      ]
    },
    {
      "cell_type": "code",
      "execution_count": null,
      "metadata": {
        "id": "cp9DyeLCvNeM"
      },
      "outputs": [],
      "source": [
        "# Подключаем необходимые модули и пакеты\n",
        "from sklearn.preprocessing import LabelBinarizer\n",
        "from sklearn.model_selection import train_test_split\n",
        "from sklearn.metrics import classification_report\n",
        "from keras.models import Sequential\n",
        "from keras.layers.core import Dense\n",
        "from keras.optimizers import SGD\n",
        "from imutils import paths\n",
        "import matplotlib.pyplot as plt\n",
        "import numpy as np\n",
        "import random\n",
        "import pickle\n",
        "import cv2\n",
        "from google.colab.patches import cv2_imshow\n",
        "import os\n",
        "from plotly.subplots import make_subplots\n",
        "import plotly.graph_objects as go\n",
        "import math\n",
        "import numpy as np\n",
        "from keras.layers import Conv2D, MaxPooling2D, Dense, Flatten,  AveragePooling2D\n",
        " \n",
        "from keras.optimizers import Adam, SGD\n",
        "import matplotlib.pyplot as plt\n",
        "import numpy as np\n",
        "import keras"
      ]
    },
    {
      "cell_type": "markdown",
      "metadata": {
        "id": "GATRthzv58ru"
      },
      "source": [
        "### Датасет"
      ]
    },
    {
      "cell_type": "code",
      "execution_count": null,
      "metadata": {
        "colab": {
          "base_uri": "https://localhost:8080/"
        },
        "id": "tsO3Zn79FMHR",
        "outputId": "b9ba4150-748d-4345-d924-2fbaca17d9bf"
      },
      "outputs": [
        {
          "output_type": "stream",
          "name": "stdout",
          "text": [
            "[INFO] loading images...\n"
          ]
        }
      ],
      "source": [
        "# инициализируем данные и метки\n",
        "print(\"[INFO] loading images...\")\n",
        "data = []\n",
        "labels = []"
      ]
    },
    {
      "cell_type": "code",
      "execution_count": null,
      "metadata": {
        "id": "WykiH3MpQBHJ"
      },
      "outputs": [],
      "source": [
        "# Собираем список путей к каждому изображению и перемешиваем их\n",
        "imagePaths = sorted(list(paths.list_images(\"/content/drive/MyDrive/датасеты/\")))\n",
        "\n",
        "random.shuffle(imagePaths)"
      ]
    },
    {
      "cell_type": "code",
      "execution_count": null,
      "metadata": {
        "id": "D6PJWVgvUQbQ"
      },
      "outputs": [],
      "source": [
        "# цикл по изображениям\n",
        "for imagePath in imagePaths:\n",
        "\t\n",
        "\timage = cv2.imread(imagePath) # загружаем изображение\n",
        "\timage = cv2.resize(image, (32, 32))# меняем его разрешение на 32x32 пикселей (без учета соотношения сторон),\n",
        "\t\t\t\t\t\t\t\t\t\t\t\t\t\t\t\t\t\t\t\t\t\t\t\t# сглаживаем его в 32x32x3=3072 пикселей\n",
        "\tdata.append(image) # добавляем в список\n",
        "\n",
        "\tlabel = imagePath.split(os.path.sep)[-2] \t# извлекаем метку класса из пути к изображению (метка класса зависит от имени папки)\n",
        "\tlabels.append(label) # обновляем список мето"
      ]
    },
    {
      "cell_type": "code",
      "execution_count": null,
      "metadata": {
        "id": "rchfXR1HVeAa"
      },
      "outputs": [],
      "source": [
        "# масштабируем интенсивности пикселей в диапазон [0, 1] (Нормализация данных)\n",
        "data = np.array(data, dtype=\"float\") / 255.0\n",
        "labels = np.array(labels)"
      ]
    },
    {
      "cell_type": "code",
      "execution_count": null,
      "metadata": {
        "colab": {
          "base_uri": "https://localhost:8080/"
        },
        "id": "tnw25BhlVQDa",
        "outputId": "61fee1a9-9730-4a06-e596-27a8501909b8"
      },
      "outputs": [
        {
          "output_type": "execute_result",
          "data": {
            "text/plain": [
              "2998"
            ]
          },
          "metadata": {},
          "execution_count": 19
        }
      ],
      "source": [
        "len(data)"
      ]
    },
    {
      "cell_type": "code",
      "execution_count": null,
      "metadata": {
        "id": "vlIXLLiFVfZe"
      },
      "outputs": [],
      "source": [
        "# разбиваем данные на обучающую и тестовую выборки, используя 75%\n",
        "# данных для обучения и оставшиеся 25% для тестирования\n",
        "(trainX, testX, trainY, testY) = train_test_split(data, labels, test_size=0.25, random_state=42)"
      ]
    },
    {
      "cell_type": "code",
      "execution_count": null,
      "metadata": {
        "id": "by-XkJf7Vh-0"
      },
      "outputs": [],
      "source": [
        "# конвертируем метки из целых чисел в векторы (для 2х классов при\n",
        "# бинарной классификации вам следует использовать функцию Keras\n",
        "# \"to_categorical\" вместо \"LabelBinarizer\" из scikit-learn, которая не возвращает вектор)\n",
        "lb = LabelBinarizer()\n",
        "trainY = lb.fit_transform(trainY)\n",
        "testY = lb.transform(testY)\n"
      ]
    },
    {
      "cell_type": "code",
      "execution_count": null,
      "metadata": {
        "colab": {
          "base_uri": "https://localhost:8080/"
        },
        "id": "mxltUNAhwW0Q",
        "outputId": "e2a3fa6e-1b35-41bd-d142-58579f826569"
      },
      "outputs": [
        {
          "output_type": "execute_result",
          "data": {
            "text/plain": [
              "(2248, 3)"
            ]
          },
          "metadata": {},
          "execution_count": 22
        }
      ],
      "source": [
        "trainY.shape"
      ]
    },
    {
      "cell_type": "code",
      "execution_count": null,
      "metadata": {
        "colab": {
          "base_uri": "https://localhost:8080/"
        },
        "id": "kT07EMtrhfz2",
        "outputId": "9089f3ed-80df-4842-d7b9-d35500ca7cb0"
      },
      "outputs": [
        {
          "output_type": "stream",
          "name": "stdout",
          "text": [
            "Model: \"sequential_1\"\n",
            "_________________________________________________________________\n",
            " Layer (type)                Output Shape              Param #   \n",
            "=================================================================\n",
            " conv2d_2 (Conv2D)           (None, 32, 32, 6)         168       \n",
            "                                                                 \n",
            " average_pooling2d (AverageP  (None, 16, 16, 6)        0         \n",
            " ooling2D)                                                       \n",
            "                                                                 \n",
            " conv2d_3 (Conv2D)           (None, 16, 16, 16)        880       \n",
            "                                                                 \n",
            " average_pooling2d_1 (Averag  (None, 8, 8, 16)         0         \n",
            " ePooling2D)                                                     \n",
            "                                                                 \n",
            " flatten_1 (Flatten)         (None, 1024)              0         \n",
            "                                                                 \n",
            " dense_2 (Dense)             (None, 128)               131200    \n",
            "                                                                 \n",
            " dense_3 (Dense)             (None, 64)                8256      \n",
            "                                                                 \n",
            " dense_4 (Dense)             (None, 3)                 195       \n",
            "                                                                 \n",
            "=================================================================\n",
            "Total params: 140,699\n",
            "Trainable params: 140,699\n",
            "Non-trainable params: 0\n",
            "_________________________________________________________________\n"
          ]
        }
      ],
      "source": [
        "model_old = keras.Sequential([\n",
        "    \n",
        "    Conv2D(6, (3,3), strides=(1,1), activation='relu', padding = 'same',\n",
        "    input_shape=(32,32,3)), \n",
        "    AveragePooling2D(pool_size=(2,2), strides=(2,2)),\n",
        "    Conv2D(16, (3,3), strides=(1,1), activation='relu', padding = 'same'), \n",
        "    AveragePooling2D(pool_size=(2,2), strides=(2,2)),\n",
        "\n",
        "    Flatten(),\n",
        "\n",
        "    Dense(units=128,activation='relu'),\n",
        "    Dense(units=64,activation='relu'),\n",
        "    Dense(units=3,activation='softmax') \n",
        "])\n",
        "\n",
        "model_old.summary()"
      ]
    },
    {
      "cell_type": "code",
      "execution_count": null,
      "metadata": {
        "colab": {
          "base_uri": "https://localhost:8080/"
        },
        "id": "08nK5m08h6Ti",
        "outputId": "f51cd8cf-6496-4bdf-f622-665315f10a23"
      },
      "outputs": [
        {
          "output_type": "stream",
          "name": "stdout",
          "text": [
            "Epoch 1/20\n",
            "20/20 [==============================] - 4s 107ms/step - loss: 1.0568 - accuracy: 0.4513 - val_loss: 1.0792 - val_accuracy: 0.3964\n",
            "Epoch 2/20\n",
            "20/20 [==============================] - 1s 69ms/step - loss: 1.0049 - accuracy: 0.4901 - val_loss: 0.9471 - val_accuracy: 0.5562\n",
            "Epoch 3/20\n",
            "20/20 [==============================] - 1s 71ms/step - loss: 0.9531 - accuracy: 0.5487 - val_loss: 0.9163 - val_accuracy: 0.5888\n",
            "Epoch 4/20\n",
            "20/20 [==============================] - 1s 68ms/step - loss: 0.9197 - accuracy: 0.5817 - val_loss: 0.8923 - val_accuracy: 0.5917\n",
            "Epoch 5/20\n",
            "20/20 [==============================] - 1s 70ms/step - loss: 0.9038 - accuracy: 0.5880 - val_loss: 0.8797 - val_accuracy: 0.6331\n",
            "Epoch 6/20\n",
            "20/20 [==============================] - 1s 67ms/step - loss: 0.8487 - accuracy: 0.6262 - val_loss: 0.8638 - val_accuracy: 0.6243\n",
            "Epoch 7/20\n",
            "20/20 [==============================] - 2s 87ms/step - loss: 0.8242 - accuracy: 0.6408 - val_loss: 0.9086 - val_accuracy: 0.6213\n",
            "Epoch 8/20\n",
            "20/20 [==============================] - 2s 118ms/step - loss: 0.8344 - accuracy: 0.6319 - val_loss: 0.8725 - val_accuracy: 0.6124\n",
            "Epoch 9/20\n",
            "20/20 [==============================] - 2s 114ms/step - loss: 0.8030 - accuracy: 0.6445 - val_loss: 0.8422 - val_accuracy: 0.6450\n",
            "Epoch 10/20\n",
            "20/20 [==============================] - 1s 70ms/step - loss: 0.7982 - accuracy: 0.6346 - val_loss: 0.8512 - val_accuracy: 0.6331\n",
            "Epoch 11/20\n",
            "20/20 [==============================] - 1s 66ms/step - loss: 0.7712 - accuracy: 0.6738 - val_loss: 0.8416 - val_accuracy: 0.6331\n",
            "Epoch 12/20\n",
            "20/20 [==============================] - 1s 69ms/step - loss: 0.7575 - accuracy: 0.6749 - val_loss: 0.8264 - val_accuracy: 0.6627\n",
            "Epoch 13/20\n",
            "20/20 [==============================] - 1s 66ms/step - loss: 0.7314 - accuracy: 0.6843 - val_loss: 0.8544 - val_accuracy: 0.6420\n",
            "Epoch 14/20\n",
            "20/20 [==============================] - 1s 69ms/step - loss: 0.7323 - accuracy: 0.6869 - val_loss: 0.8343 - val_accuracy: 0.6568\n",
            "Epoch 15/20\n",
            "20/20 [==============================] - 1s 67ms/step - loss: 0.7184 - accuracy: 0.6974 - val_loss: 0.8420 - val_accuracy: 0.6509\n",
            "Epoch 16/20\n",
            "20/20 [==============================] - 1s 67ms/step - loss: 0.7271 - accuracy: 0.6859 - val_loss: 0.8059 - val_accuracy: 0.6686\n",
            "Epoch 17/20\n",
            "20/20 [==============================] - 2s 111ms/step - loss: 0.6872 - accuracy: 0.7052 - val_loss: 0.8689 - val_accuracy: 0.6450\n",
            "Epoch 18/20\n",
            "20/20 [==============================] - 2s 116ms/step - loss: 0.6833 - accuracy: 0.7079 - val_loss: 0.8311 - val_accuracy: 0.6420\n",
            "Epoch 19/20\n",
            "20/20 [==============================] - 2s 117ms/step - loss: 0.6613 - accuracy: 0.7293 - val_loss: 0.8108 - val_accuracy: 0.6805\n",
            "Epoch 20/20\n",
            "20/20 [==============================] - 2s 84ms/step - loss: 0.6381 - accuracy: 0.7372 - val_loss: 0.8263 - val_accuracy: 0.6716\n",
            "24/24 [==============================] - 0s 11ms/step - loss: 0.8172 - accuracy: 0.6627\n"
          ]
        },
        {
          "output_type": "execute_result",
          "data": {
            "text/plain": [
              "[0.8172317743301392, 0.6626666784286499]"
            ]
          },
          "metadata": {},
          "execution_count": 24
        }
      ],
      "source": [
        "EPOCH = 20\n",
        "\n",
        "model_old.compile(optimizer='adam',\n",
        "             loss='categorical_crossentropy',\n",
        "             metrics=['accuracy'])\n",
        "\n",
        "\n",
        "history = model_old.fit(trainX, trainY, batch_size=100, epochs=EPOCH, validation_split=0.15)\n",
        " \n",
        "model_old.evaluate(testX, testY)"
      ]
    },
    {
      "cell_type": "code",
      "execution_count": null,
      "metadata": {
        "colab": {
          "base_uri": "https://localhost:8080/",
          "height": 497
        },
        "id": "D_FX82Hhzjln",
        "outputId": "e248d622-a4c3-4896-c21f-5229cb6fb4fe"
      },
      "outputs": [
        {
          "output_type": "display_data",
          "data": {
            "text/plain": [
              "<PIL.Image.Image image mode=RGB size=640x480 at 0x7F1F6CDD5FA0>"
            ],
            "image/png": "[encoded data removed]"
          },
          "metadata": {}
        }
      ],
      "source": [
        "N = np.arange(0, EPOCH)\n",
        "plt.style.use(\"ggplot\")\n",
        "plt.figure()\n",
        "plt.plot(N, history.history[\"loss\"], label=\"train_loss\")\n",
        "plt.plot(N, history.history[\"val_loss\"], label=\"val_loss\")\n",
        "plt.plot(N, history.history[\"accuracy\"], label=\"train_acc\")\n",
        "plt.plot(N, history.history[\"val_accuracy\"], label=\"val_acc\")\n",
        "plt.title(\"Training Loss and Accuracy (Simple NN)\")\n",
        "plt.xlabel(\"Epoch #\")\n",
        "plt.ylabel(\"Loss/Accuracy\")\n",
        "plt.legend()\n",
        "plt.savefig('plot.png')\n",
        "cv2_imshow(cv2.imread(\"plot.png\"))"
      ]
    },
    {
      "cell_type": "markdown",
      "metadata": {
        "id": "ub9ZNoVomnl1"
      },
      "source": [
        "### Первое изображение"
      ]
    },
    {
      "cell_type": "code",
      "execution_count": null,
      "metadata": {
        "id": "6nvM77t98KwP"
      },
      "outputs": [],
      "source": [
        "from keras.models import load_model\n",
        "import argparse\n",
        "import pickle\n",
        "import cv2"
      ]
    },
    {
      "cell_type": "code",
      "execution_count": null,
      "metadata": {
        "colab": {
          "base_uri": "https://localhost:8080/",
          "height": 107
        },
        "id": "HHNp9gIkjCCt",
        "outputId": "9d627950-92be-4752-8e64-88105a78d480"
      },
      "outputs": [
        {
          "output_type": "display_data",
          "data": {
            "text/plain": [
              "<IPython.core.display.HTML object>"
            ],
            "text/html": [
              "\n",
              "     <input type=\"file\" id=\"files-c69c7979-9fdf-4a4c-80a5-c59f5b4b8a3a\" name=\"files[]\" multiple disabled\n",
              "        style=\"border:none\" />\n",
              "     <output id=\"result-c69c7979-9fdf-4a4c-80a5-c59f5b4b8a3a\">\n",
              "      Upload widget is only available when the cell has been executed in the\n",
              "      current browser session. Please rerun this cell to enable.\n",
              "      </output>\n",
              "      <script>// Copyright 2017 Google LLC\n",
              "//\n",
              "// Licensed under the Apache License, Version 2.0 (the \"License\");\n",
              "// you may not use this file except in compliance with the License.\n",
              "// You may obtain a copy of the License at\n",
              "//\n",
              "//      http://www.apache.org/licenses/LICENSE-2.0\n",
              "//\n",
              "// Unless required by applicable law or agreed to in writing, software\n",
              "// distributed under the License is distributed on an \"AS IS\" BASIS,\n",
              "// WITHOUT WARRANTIES OR CONDITIONS OF ANY KIND, either express or implied.\n",
              "// See the License for the specific language governing permissions and\n",
              "// limitations under the License.\n",
              "\n",
              "/**\n",
              " * @fileoverview Helpers for google.colab Python module.\n",
              " */\n",
              "(function(scope) {\n",
              "function span(text, styleAttributes = {}) {\n",
              "  const element = document.createElement('span');\n",
              "  element.textContent = text;\n",
              "  for (const key of Object.keys(styleAttributes)) {\n",
              "    element.style[key] = styleAttributes[key];\n",
              "  }\n",
              "  return element;\n",
              "}\n",
              "\n",
              "// Max number of bytes which will be uploaded at a time.\n",
              "const MAX_PAYLOAD_SIZE = 100 * 1024;\n",
              "\n",
              "function _uploadFiles(inputId, outputId) {\n",
              "  const steps = uploadFilesStep(inputId, outputId);\n",
              "  const outputElement = document.getElementById(outputId);\n",
              "  // Cache steps on the outputElement to make it available for the next call\n",
              "  // to uploadFilesContinue from Python.\n",
              "  outputElement.steps = steps;\n",
              "\n",
              "  return _uploadFilesContinue(outputId);\n",
              "}\n",
              "\n",
              "// This is roughly an async generator (not supported in the browser yet),\n",
              "// where there are multiple asynchronous steps and the Python side is going\n",
              "// to poll for completion of each step.\n",
              "// This uses a Promise to block the python side on completion of each step,\n",
              "// then passes the result of the previous step as the input to the next step.\n",
              "function _uploadFilesContinue(outputId) {\n",
              "  const outputElement = document.getElementById(outputId);\n",
              "  const steps = outputElement.steps;\n",
              "\n",
              "  const next = steps.next(outputElement.lastPromiseValue);\n",
              "  return Promise.resolve(next.value.promise).then((value) => {\n",
              "    // Cache the last promise value to make it available to the next\n",
              "    // step of the generator.\n",
              "    outputElement.lastPromiseValue = value;\n",
              "    return next.value.response;\n",
              "  });\n",
              "}\n",
              "\n",
              "/**\n",
              " * Generator function which is called between each async step of the upload\n",
              " * process.\n",
              " * @param {string} inputId Element ID of the input file picker element.\n",
              " * @param {string} outputId Element ID of the output display.\n",
              " * @return {!Iterable<!Object>} Iterable of next steps.\n",
              " */\n",
              "function* uploadFilesStep(inputId, outputId) {\n",
              "  const inputElement = document.getElementById(inputId);\n",
              "  inputElement.disabled = false;\n",
              "\n",
              "  const outputElement = document.getElementById(outputId);\n",
              "  outputElement.innerHTML = '';\n",
              "\n",
              "  const pickedPromise = new Promise((resolve) => {\n",
              "    inputElement.addEventListener('change', (e) => {\n",
              "      resolve(e.target.files);\n",
              "    });\n",
              "  });\n",
              "\n",
              "  const cancel = document.createElement('button');\n",
              "  inputElement.parentElement.appendChild(cancel);\n",
              "  cancel.textContent = 'Cancel upload';\n",
              "  const cancelPromise = new Promise((resolve) => {\n",
              "    cancel.onclick = () => {\n",
              "      resolve(null);\n",
              "    };\n",
              "  });\n",
              "\n",
              "  // Wait for the user to pick the files.\n",
              "  const files = yield {\n",
              "    promise: Promise.race([pickedPromise, cancelPromise]),\n",
              "    response: {\n",
              "      action: 'starting',\n",
              "    }\n",
              "  };\n",
              "\n",
              "  cancel.remove();\n",
              "\n",
              "  // Disable the input element since further picks are not allowed.\n",
              "  inputElement.disabled = true;\n",
              "\n",
              "  if (!files) {\n",
              "    return {\n",
              "      response: {\n",
              "        action: 'complete',\n",
              "      }\n",
              "    };\n",
              "  }\n",
              "\n",
              "  for (const file of files) {\n",
              "    const li = document.createElement('li');\n",
              "    li.append(span(file.name, {fontWeight: 'bold'}));\n",
              "    li.append(span(\n",
              "        `(${file.type || 'n/a'}) - ${file.size} bytes, ` +\n",
              "        `last modified: ${\n",
              "            file.lastModifiedDate ? file.lastModifiedDate.toLocaleDateString() :\n",
              "                                    'n/a'} - `));\n",
              "    const percent = span('0% done');\n",
              "    li.appendChild(percent);\n",
              "\n",
              "    outputElement.appendChild(li);\n",
              "\n",
              "    const fileDataPromise = new Promise((resolve) => {\n",
              "      const reader = new FileReader();\n",
              "      reader.onload = (e) => {\n",
              "        resolve(e.target.result);\n",
              "      };\n",
              "      reader.readAsArrayBuffer(file);\n",
              "    });\n",
              "    // Wait for the data to be ready.\n",
              "    let fileData = yield {\n",
              "      promise: fileDataPromise,\n",
              "      response: {\n",
              "        action: 'continue',\n",
              "      }\n",
              "    };\n",
              "\n",
              "    // Use a chunked sending to avoid message size limits. See b/62115660.\n",
              "    let position = 0;\n",
              "    do {\n",
              "      const length = Math.min(fileData.byteLength - position, MAX_PAYLOAD_SIZE);\n",
              "      const chunk = new Uint8Array(fileData, position, length);\n",
              "      position += length;\n",
              "\n",
              "      const base64 = btoa(String.fromCharCode.apply(null, chunk));\n",
              "      yield {\n",
              "        response: {\n",
              "          action: 'append',\n",
              "          file: file.name,\n",
              "          data: base64,\n",
              "        },\n",
              "      };\n",
              "\n",
              "      let percentDone = fileData.byteLength === 0 ?\n",
              "          100 :\n",
              "          Math.round((position / fileData.byteLength) * 100);\n",
              "      percent.textContent = `${percentDone}% done`;\n",
              "\n",
              "    } while (position < fileData.byteLength);\n",
              "  }\n",
              "\n",
              "  // All done.\n",
              "  yield {\n",
              "    response: {\n",
              "      action: 'complete',\n",
              "    }\n",
              "  };\n",
              "}\n",
              "\n",
              "scope.google = scope.google || {};\n",
              "scope.google.colab = scope.google.colab || {};\n",
              "scope.google.colab._files = {\n",
              "  _uploadFiles,\n",
              "  _uploadFilesContinue,\n",
              "};\n",
              "})(self);\n",
              "</script> "
            ]
          },
          "metadata": {}
        },
        {
          "output_type": "stream",
          "name": "stdout",
          "text": [
            "Saving kartinki-ovechki-17.jpg to kartinki-ovechki-17.jpg\n"
          ]
        },
        {
          "output_type": "display_data",
          "data": {
            "text/plain": [
              "<PIL.Image.Image image mode=RGB size=32x32 at 0x7F1FB3128640>"
            ],
            "image/png": "[encoded data removed]"
          },
          "metadata": {}
        }
      ],
      "source": [
        "# Добавляем интерфейс для загрузки изображений напрямую из блокнота\n",
        "from google.colab import files\n",
        "uploaded = files.upload() \n",
        "\n",
        "# загружаем входное изображение, меняем его размер на необходимый и выводим его\n",
        "image = cv2.imread(list(uploaded.keys())[0])\n",
        "output = image.copy()\n",
        "image = cv2.resize(image, (32, 32))\n",
        "cv2_imshow(image)"
      ]
    },
    {
      "cell_type": "code",
      "execution_count": null,
      "metadata": {
        "id": "aMmT8VZt3obJ"
      },
      "outputs": [],
      "source": [
        "img_c = image.copy()"
      ]
    },
    {
      "cell_type": "code",
      "execution_count": null,
      "metadata": {
        "id": "vSCWfb4uCAgN"
      },
      "outputs": [],
      "source": [
        "import tensorflow as tf"
      ]
    },
    {
      "cell_type": "code",
      "execution_count": null,
      "metadata": {
        "id": "EI_q01Iwbopl"
      },
      "outputs": [],
      "source": [
        "# image = np.expand_dims(image)\n",
        "# preds = model_old.predict(image)\n",
        "\n",
        "\n",
        "img_c = tf.expand_dims(image, axis=0)"
      ]
    },
    {
      "cell_type": "code",
      "execution_count": null,
      "metadata": {
        "id": "DDq7flBlBHmd",
        "colab": {
          "base_uri": "https://localhost:8080/"
        },
        "outputId": "ddba2f63-b0ed-4cf4-a625-fe13d740e9cd"
      },
      "outputs": [
        {
          "output_type": "execute_result",
          "data": {
            "text/plain": [
              "TensorShape([1, 32, 32, 3])"
            ]
          },
          "metadata": {},
          "execution_count": 31
        }
      ],
      "source": [
        "img_c.shape"
      ]
    },
    {
      "cell_type": "code",
      "execution_count": null,
      "metadata": {
        "id": "zwttrOBGCNVC",
        "colab": {
          "base_uri": "https://localhost:8080/"
        },
        "outputId": "4ab40c41-4446-4905-8aab-1db1493c3e73"
      },
      "outputs": [
        {
          "output_type": "stream",
          "name": "stdout",
          "text": [
            "1/1 [==============================] - 0s 104ms/step\n"
          ]
        }
      ],
      "source": [
        "preds = model_old.predict(img_c)"
      ]
    },
    {
      "cell_type": "code",
      "execution_count": null,
      "metadata": {
        "id": "Avr2WjZU8iWb"
      },
      "outputs": [],
      "source": [
        "# находим индекс метки класса с наибольшей вероятностью\n",
        "# соответствия\n",
        "i = preds.argmax(axis=1)[0]\n",
        "lab = ['Slony', 'Cow', 'Ovechka']\n",
        "#lab = ['Слон', 'Корова', 'Овца']\n",
        "\n",
        "label = lab[i]"
      ]
    },
    {
      "cell_type": "code",
      "execution_count": null,
      "metadata": {
        "id": "SgA0-6V1jKu5",
        "colab": {
          "base_uri": "https://localhost:8080/"
        },
        "outputId": "b559872b-98f1-4726-eb9b-67fafb4f3789"
      },
      "outputs": [
        {
          "output_type": "stream",
          "name": "stdout",
          "text": [
            "Загружено: ('Ovechka', array([[0., 0., 0., 0., 0., 0., 1., 0., 0., 0.]], dtype=float32))\n"
          ]
        }
      ],
      "source": [
        "print(f\"Загружено: { label, preds}\")"
      ]
    },
    {
      "cell_type": "markdown",
      "metadata": {
        "id": "Pw78dn9SSnVr"
      },
      "source": [
        "### Второе изображение"
      ]
    },
    {
      "cell_type": "code",
      "execution_count": null,
      "metadata": {
        "id": "sVaQ7FDlSnVr"
      },
      "outputs": [],
      "source": [
        "from keras.models import load_model\n",
        "import argparse\n",
        "import pickle\n",
        "import cv2"
      ]
    },
    {
      "cell_type": "code",
      "execution_count": null,
      "metadata": {
        "colab": {
          "base_uri": "https://localhost:8080/",
          "height": 107
        },
        "outputId": "a495ad13-25b8-480f-e92e-9804b621ec13",
        "id": "rQyCgBmcSnVs"
      },
      "outputs": [
        {
          "output_type": "display_data",
          "data": {
            "text/plain": [
              "<IPython.core.display.HTML object>"
            ],
            "text/html": [
              "\n",
              "     <input type=\"file\" id=\"files-80a59d67-43d6-48b4-a4f9-ff53f2557c6b\" name=\"files[]\" multiple disabled\n",
              "        style=\"border:none\" />\n",
              "     <output id=\"result-80a59d67-43d6-48b4-a4f9-ff53f2557c6b\">\n",
              "      Upload widget is only available when the cell has been executed in the\n",
              "      current browser session. Please rerun this cell to enable.\n",
              "      </output>\n",
              "      <script>// Copyright 2017 Google LLC\n",
              "//\n",
              "// Licensed under the Apache License, Version 2.0 (the \"License\");\n",
              "// you may not use this file except in compliance with the License.\n",
              "// You may obtain a copy of the License at\n",
              "//\n",
              "//      http://www.apache.org/licenses/LICENSE-2.0\n",
              "//\n",
              "// Unless required by applicable law or agreed to in writing, software\n",
              "// distributed under the License is distributed on an \"AS IS\" BASIS,\n",
              "// WITHOUT WARRANTIES OR CONDITIONS OF ANY KIND, either express or implied.\n",
              "// See the License for the specific language governing permissions and\n",
              "// limitations under the License.\n",
              "\n",
              "/**\n",
              " * @fileoverview Helpers for google.colab Python module.\n",
              " */\n",
              "(function(scope) {\n",
              "function span(text, styleAttributes = {}) {\n",
              "  const element = document.createElement('span');\n",
              "  element.textContent = text;\n",
              "  for (const key of Object.keys(styleAttributes)) {\n",
              "    element.style[key] = styleAttributes[key];\n",
              "  }\n",
              "  return element;\n",
              "}\n",
              "\n",
              "// Max number of bytes which will be uploaded at a time.\n",
              "const MAX_PAYLOAD_SIZE = 100 * 1024;\n",
              "\n",
              "function _uploadFiles(inputId, outputId) {\n",
              "  const steps = uploadFilesStep(inputId, outputId);\n",
              "  const outputElement = document.getElementById(outputId);\n",
              "  // Cache steps on the outputElement to make it available for the next call\n",
              "  // to uploadFilesContinue from Python.\n",
              "  outputElement.steps = steps;\n",
              "\n",
              "  return _uploadFilesContinue(outputId);\n",
              "}\n",
              "\n",
              "// This is roughly an async generator (not supported in the browser yet),\n",
              "// where there are multiple asynchronous steps and the Python side is going\n",
              "// to poll for completion of each step.\n",
              "// This uses a Promise to block the python side on completion of each step,\n",
              "// then passes the result of the previous step as the input to the next step.\n",
              "function _uploadFilesContinue(outputId) {\n",
              "  const outputElement = document.getElementById(outputId);\n",
              "  const steps = outputElement.steps;\n",
              "\n",
              "  const next = steps.next(outputElement.lastPromiseValue);\n",
              "  return Promise.resolve(next.value.promise).then((value) => {\n",
              "    // Cache the last promise value to make it available to the next\n",
              "    // step of the generator.\n",
              "    outputElement.lastPromiseValue = value;\n",
              "    return next.value.response;\n",
              "  });\n",
              "}\n",
              "\n",
              "/**\n",
              " * Generator function which is called between each async step of the upload\n",
              " * process.\n",
              " * @param {string} inputId Element ID of the input file picker element.\n",
              " * @param {string} outputId Element ID of the output display.\n",
              " * @return {!Iterable<!Object>} Iterable of next steps.\n",
              " */\n",
              "function* uploadFilesStep(inputId, outputId) {\n",
              "  const inputElement = document.getElementById(inputId);\n",
              "  inputElement.disabled = false;\n",
              "\n",
              "  const outputElement = document.getElementById(outputId);\n",
              "  outputElement.innerHTML = '';\n",
              "\n",
              "  const pickedPromise = new Promise((resolve) => {\n",
              "    inputElement.addEventListener('change', (e) => {\n",
              "      resolve(e.target.files);\n",
              "    });\n",
              "  });\n",
              "\n",
              "  const cancel = document.createElement('button');\n",
              "  inputElement.parentElement.appendChild(cancel);\n",
              "  cancel.textContent = 'Cancel upload';\n",
              "  const cancelPromise = new Promise((resolve) => {\n",
              "    cancel.onclick = () => {\n",
              "      resolve(null);\n",
              "    };\n",
              "  });\n",
              "\n",
              "  // Wait for the user to pick the files.\n",
              "  const files = yield {\n",
              "    promise: Promise.race([pickedPromise, cancelPromise]),\n",
              "    response: {\n",
              "      action: 'starting',\n",
              "    }\n",
              "  };\n",
              "\n",
              "  cancel.remove();\n",
              "\n",
              "  // Disable the input element since further picks are not allowed.\n",
              "  inputElement.disabled = true;\n",
              "\n",
              "  if (!files) {\n",
              "    return {\n",
              "      response: {\n",
              "        action: 'complete',\n",
              "      }\n",
              "    };\n",
              "  }\n",
              "\n",
              "  for (const file of files) {\n",
              "    const li = document.createElement('li');\n",
              "    li.append(span(file.name, {fontWeight: 'bold'}));\n",
              "    li.append(span(\n",
              "        `(${file.type || 'n/a'}) - ${file.size} bytes, ` +\n",
              "        `last modified: ${\n",
              "            file.lastModifiedDate ? file.lastModifiedDate.toLocaleDateString() :\n",
              "                                    'n/a'} - `));\n",
              "    const percent = span('0% done');\n",
              "    li.appendChild(percent);\n",
              "\n",
              "    outputElement.appendChild(li);\n",
              "\n",
              "    const fileDataPromise = new Promise((resolve) => {\n",
              "      const reader = new FileReader();\n",
              "      reader.onload = (e) => {\n",
              "        resolve(e.target.result);\n",
              "      };\n",
              "      reader.readAsArrayBuffer(file);\n",
              "    });\n",
              "    // Wait for the data to be ready.\n",
              "    let fileData = yield {\n",
              "      promise: fileDataPromise,\n",
              "      response: {\n",
              "        action: 'continue',\n",
              "      }\n",
              "    };\n",
              "\n",
              "    // Use a chunked sending to avoid message size limits. See b/62115660.\n",
              "    let position = 0;\n",
              "    do {\n",
              "      const length = Math.min(fileData.byteLength - position, MAX_PAYLOAD_SIZE);\n",
              "      const chunk = new Uint8Array(fileData, position, length);\n",
              "      position += length;\n",
              "\n",
              "      const base64 = btoa(String.fromCharCode.apply(null, chunk));\n",
              "      yield {\n",
              "        response: {\n",
              "          action: 'append',\n",
              "          file: file.name,\n",
              "          data: base64,\n",
              "        },\n",
              "      };\n",
              "\n",
              "      let percentDone = fileData.byteLength === 0 ?\n",
              "          100 :\n",
              "          Math.round((position / fileData.byteLength) * 100);\n",
              "      percent.textContent = `${percentDone}% done`;\n",
              "\n",
              "    } while (position < fileData.byteLength);\n",
              "  }\n",
              "\n",
              "  // All done.\n",
              "  yield {\n",
              "    response: {\n",
              "      action: 'complete',\n",
              "    }\n",
              "  };\n",
              "}\n",
              "\n",
              "scope.google = scope.google || {};\n",
              "scope.google.colab = scope.google.colab || {};\n",
              "scope.google.colab._files = {\n",
              "  _uploadFiles,\n",
              "  _uploadFilesContinue,\n",
              "};\n",
              "})(self);\n",
              "</script> "
            ]
          },
          "metadata": {}
        },
        {
          "output_type": "stream",
          "name": "stdout",
          "text": [
            "Saving svnsl2.jpg to svnsl2 (1).jpg\n"
          ]
        },
        {
          "output_type": "display_data",
          "data": {
            "text/plain": [
              "<PIL.Image.Image image mode=RGB size=32x32 at 0x7F1FB59AB9D0>"
            ],
            "image/png": "[encoded data removed]"
          },
          "metadata": {}
        }
      ],
      "source": [
        "# Добавляем интерфейс для загрузки изображений напрямую из блокнота\n",
        "from google.colab import files\n",
        "uploaded = files.upload() \n",
        "\n",
        "# загружаем входное изображение, меняем его размер на необходимый и выводим его\n",
        "image = cv2.imread(list(uploaded.keys())[0])\n",
        "output = image.copy()\n",
        "image = cv2.resize(image, (32, 32))\n",
        "cv2_imshow(image)"
      ]
    },
    {
      "cell_type": "code",
      "execution_count": null,
      "metadata": {
        "id": "eqA2LHl7SnVs"
      },
      "outputs": [],
      "source": [
        "img_c = image.copy()"
      ]
    },
    {
      "cell_type": "code",
      "execution_count": null,
      "metadata": {
        "id": "E7WP73pzSnVs"
      },
      "outputs": [],
      "source": [
        "import tensorflow as tf"
      ]
    },
    {
      "cell_type": "code",
      "execution_count": null,
      "metadata": {
        "id": "FJCLTIUkSnVs"
      },
      "outputs": [],
      "source": [
        "# image = np.expand_dims(image)\n",
        "# preds = model_old.predict(image)\n",
        "\n",
        "\n",
        "img_c = tf.expand_dims(image, axis=0)"
      ]
    },
    {
      "cell_type": "code",
      "execution_count": null,
      "metadata": {
        "colab": {
          "base_uri": "https://localhost:8080/"
        },
        "outputId": "afca44e0-e96d-4c53-f020-478a9f4aee17",
        "id": "2rkU5toDSnVs"
      },
      "outputs": [
        {
          "output_type": "execute_result",
          "data": {
            "text/plain": [
              "TensorShape([1, 32, 32, 3])"
            ]
          },
          "metadata": {},
          "execution_count": 47
        }
      ],
      "source": [
        "img_c.shape"
      ]
    },
    {
      "cell_type": "code",
      "execution_count": null,
      "metadata": {
        "colab": {
          "base_uri": "https://localhost:8080/"
        },
        "outputId": "16dd50ba-8fa5-44b2-a885-ee08fa6875df",
        "id": "MTCn0WTgSnVt"
      },
      "outputs": [
        {
          "output_type": "stream",
          "name": "stderr",
          "text": [
            "Exception ignored in: <function _xla_gc_callback at 0x7f1fcf69caf0>\n",
            "Traceback (most recent call last):\n",
            "  File \"/usr/local/lib/python3.9/dist-packages/jax/_src/lib/__init__.py\", line 97, in _xla_gc_callback\n",
            "    def _xla_gc_callback(*args):\n",
            "KeyboardInterrupt: \n"
          ]
        },
        {
          "output_type": "stream",
          "name": "stdout",
          "text": [
            "1/1 [==============================] - 0s 27ms/step\n"
          ]
        }
      ],
      "source": [
        "preds = model_old.predict(img_c)"
      ]
    },
    {
      "cell_type": "code",
      "execution_count": null,
      "metadata": {
        "id": "hyd6yN-mSnVt"
      },
      "outputs": [],
      "source": [
        "# находим индекс метки класса с наибольшей вероятностью\n",
        "# соответствия\n",
        "i = preds.argmax(axis=1)[0]\n",
        "lab = ['Slony', 'Cow', 'Ovechka']\n",
        "#lab = ['Слон', 'Корова', 'Овца']\n",
        "\n",
        "label = lab[i]"
      ]
    },
    {
      "cell_type": "code",
      "execution_count": null,
      "metadata": {
        "id": "UzSy1QTgSnVt",
        "colab": {
          "base_uri": "https://localhost:8080/"
        },
        "outputId": "01c96204-343b-4156-cc36-7aea1abbedf0"
      },
      "outputs": [
        {
          "output_type": "stream",
          "name": "stdout",
          "text": [
            "Загружено: ('Slony', array([[1., 0., 0.]], dtype=float32))\n"
          ]
        }
      ],
      "source": [
        "print(f\"Загружено: { label, preds}\")"
      ]
    },
    {
      "cell_type": "code",
      "source": [],
      "metadata": {
        "id": "vMZd57cTUCWa"
      },
      "execution_count": null,
      "outputs": []
    },
    {
      "cell_type": "markdown",
      "metadata": {
        "id": "FiYiEH3N1qH4"
      },
      "source": [
        "# Задание №3*. Использование глубокой сверточной нейронной сети для восстановления изображения"
      ]
    },
    {
      "cell_type": "markdown",
      "metadata": {
        "id": "Rr7OISUBKMvp"
      },
      "source": [
        "## 3.1. Работа с данными"
      ]
    },
    {
      "cell_type": "markdown",
      "metadata": {
        "id": "PJVARGYG_xwQ"
      },
      "source": [
        "Будем работать с набором данным `fetch_olivetti_faces` из `sklearn`."
      ]
    },
    {
      "cell_type": "markdown",
      "metadata": {
        "id": "kl-BK6WjX-Fc"
      },
      "source": [
        "### 3.1.1. Переведите векторы в настоящие изображения из двух размерностей"
      ]
    },
    {
      "cell_type": "code",
      "execution_count": null,
      "metadata": {
        "id": "uWD9ztJr_xwQ",
        "colab": {
          "base_uri": "https://localhost:8080/"
        },
        "outputId": "7366681a-589b-430d-d88c-61fdc8fe2c60"
      },
      "outputs": [
        {
          "output_type": "stream",
          "name": "stdout",
          "text": [
            "downloading Olivetti faces from https://ndownloader.figshare.com/files/5976027 to /root/scikit_learn_data\n"
          ]
        }
      ],
      "source": [
        "from sklearn.datasets import fetch_olivetti_faces\n",
        "from sklearn.model_selection import train_test_split\n",
        "\n",
        "data, _ = fetch_olivetti_faces(return_X_y=True)\n",
        "train, test = train_test_split(data, test_size=0.2, random_state=4)"
      ]
    },
    {
      "cell_type": "code",
      "execution_count": null,
      "metadata": {
        "colab": {
          "base_uri": "https://localhost:8080/"
        },
        "id": "BweSEFYmX8df",
        "outputId": "61b9c803-cb67-4674-e7ff-42533d64a9ab"
      },
      "outputs": [
        {
          "output_type": "execute_result",
          "data": {
            "text/plain": [
              "(320, 4096)"
            ]
          },
          "metadata": {},
          "execution_count": 2
        }
      ],
      "source": [
        "train.shape"
      ]
    },
    {
      "cell_type": "markdown",
      "metadata": {
        "id": "cFHMUzpMXzNH"
      },
      "source": [
        "Сейчас изображение - это вектор, имеющий размерность 4096."
      ]
    },
    {
      "cell_type": "code",
      "execution_count": null,
      "metadata": {
        "colab": {
          "base_uri": "https://localhost:8080/"
        },
        "id": "_ku9ipjhX6CB",
        "outputId": "b7f76b8a-db63-46ff-8ace-9765503bc05a"
      },
      "outputs": [
        {
          "output_type": "execute_result",
          "data": {
            "text/plain": [
              "(80, 64, 64)"
            ]
          },
          "metadata": {},
          "execution_count": 3
        }
      ],
      "source": [
        "# Ваш код здесь\n",
        "\n",
        "train = train.reshape((train.shape[0], 64, 64))\n",
        "test = test.reshape((test.shape[0], 64, 64))\n",
        "\n",
        "test.shape"
      ]
    },
    {
      "cell_type": "markdown",
      "metadata": {
        "id": "8Vrbf_SYYEaM"
      },
      "source": [
        "### 3.1.2. Отрисуйте несколько примеров"
      ]
    },
    {
      "cell_type": "code",
      "execution_count": null,
      "metadata": {
        "id": "OiUzTMu2Ymqo",
        "colab": {
          "base_uri": "https://localhost:8080/"
        },
        "outputId": "533b468c-d0c4-4c05-9d5a-b062fdd35f75"
      },
      "outputs": [
        {
          "output_type": "display_data",
          "data": {
            "text/plain": [
              "<Figure size 1500x1000 with 5 Axes>"
            ],
            "image/png": "[encoded data removed]"
          },
          "metadata": {}
        }
      ],
      "source": [
        "import matplotlib.pyplot as plt\n",
        "\n",
        "\n",
        "fig, ax = plt.subplots(1, 5, figsize=(15, 10))\n",
        "\n",
        "for i in range(5):\n",
        "    ax[i].imshow(train[i], cmap='gray')\n",
        "    ax[i].axis('off')\n"
      ]
    },
    {
      "cell_type": "markdown",
      "metadata": {
        "id": "MDbWz6kIDIdq"
      },
      "source": [
        "Поделим данные на X и y, где X - это верхняя часть лица человека, на этом модель будет обучаться, а y - это нижняя часть лица человека - её будем предсказывать."
      ]
    },
    {
      "cell_type": "code",
      "execution_count": null,
      "metadata": {
        "id": "0Y31rNs8AkHw"
      },
      "outputs": [],
      "source": [
        "n_pixels = train.shape[1]\n",
        "\n",
        "# Upper half of the faces\n",
        "\n",
        "X_train = train[:, :(n_pixels + 1) // 2, :]\n",
        "\n",
        "# Lower half of the faces\n",
        "\n",
        "y_train = train[:, n_pixels // 2:, :]\n",
        "\n",
        "\n",
        "X_test = test[:, :(n_pixels + 1) // 2, :]\n",
        "y_test = test[:, n_pixels // 2:, :]"
      ]
    },
    {
      "cell_type": "code",
      "execution_count": null,
      "metadata": {
        "colab": {
          "base_uri": "https://localhost:8080/"
        },
        "id": "Gn8OgMu5Znnh",
        "outputId": "3531fd3a-b725-491c-8585-9501e00946de"
      },
      "outputs": [
        {
          "output_type": "execute_result",
          "data": {
            "text/plain": [
              "(320, 32, 64)"
            ]
          },
          "metadata": {},
          "execution_count": 6
        }
      ],
      "source": [
        "y_train.shape"
      ]
    },
    {
      "cell_type": "code",
      "source": [
        "y_test.shape"
      ],
      "metadata": {
        "colab": {
          "base_uri": "https://localhost:8080/"
        },
        "id": "hIZrtT6baIDB",
        "outputId": "ac1be751-f7f9-449c-e8c3-52d3ecfb6400"
      },
      "execution_count": null,
      "outputs": [
        {
          "output_type": "execute_result",
          "data": {
            "text/plain": [
              "(80, 32, 64)"
            ]
          },
          "metadata": {},
          "execution_count": 7
        }
      ]
    },
    {
      "cell_type": "code",
      "source": [
        "X_train.shape"
      ],
      "metadata": {
        "colab": {
          "base_uri": "https://localhost:8080/"
        },
        "id": "UeLWkecxaIJX",
        "outputId": "99fc7b25-0e37-46f0-a7dc-e53a1c055b94"
      },
      "execution_count": null,
      "outputs": [
        {
          "output_type": "execute_result",
          "data": {
            "text/plain": [
              "(320, 32, 64)"
            ]
          },
          "metadata": {},
          "execution_count": 8
        }
      ]
    },
    {
      "cell_type": "code",
      "source": [
        "X_test.shape"
      ],
      "metadata": {
        "colab": {
          "base_uri": "https://localhost:8080/"
        },
        "id": "jFPcqY88aIPv",
        "outputId": "f04f8ee6-adaf-41c0-9fbb-21d31d4ad34c"
      },
      "execution_count": null,
      "outputs": [
        {
          "output_type": "execute_result",
          "data": {
            "text/plain": [
              "(80, 32, 64)"
            ]
          },
          "metadata": {},
          "execution_count": 9
        }
      ]
    },
    {
      "cell_type": "markdown",
      "metadata": {
        "id": "7q4nmYnMDTzY"
      },
      "source": [
        "Вот один пример обучающей пары."
      ]
    },
    {
      "cell_type": "code",
      "execution_count": null,
      "metadata": {
        "id": "GYpecml0_xwS",
        "colab": {
          "base_uri": "https://localhost:8080/"
        },
        "outputId": "e51d7313-d502-454b-ed90-9569550afbeb"
      },
      "outputs": [
        {
          "output_type": "display_data",
          "data": {
            "text/plain": [
              "<Figure size 1500x800 with 2 Axes>"
            ],
            "image/png": "[encoded data removed]"
          },
          "metadata": {}
        }
      ],
      "source": [
        "import matplotlib.pyplot as plt\n",
        "\n",
        "idx = 0\n",
        "\n",
        "fig, ax = plt.subplots(1, 2, figsize=(15, 8))\n",
        "ax[0].imshow(X_train[idx], cmap='gray')\n",
        "ax[0].set_title('X')\n",
        "ax[1].imshow(y_train[idx], cmap='gray')\n",
        "ax[1].set_title('y')\n",
        "ax[0].axis('off')\n",
        "ax[1].axis('off')\n",
        "\n",
        "plt.show()"
      ]
    },
    {
      "cell_type": "markdown",
      "metadata": {
        "id": "-MQUIAGaeIaI"
      },
      "source": [
        "### 3.1.3. Измените размерность y\n",
        "меняем размерность\n",
        "Сейчас картинка 32x64\n",
        "Выход нейронной сети одномерный и равный 32 * 64 = 2048. "
      ]
    },
    {
      "cell_type": "code",
      "execution_count": null,
      "metadata": {
        "colab": {
          "base_uri": "https://localhost:8080/"
        },
        "id": "NTsrtRfkdhAE",
        "outputId": "eef71bd5-4f09-4a73-8961-24e00d393def"
      },
      "outputs": [
        {
          "output_type": "execute_result",
          "data": {
            "text/plain": [
              "(80, 2048)"
            ]
          },
          "metadata": {},
          "execution_count": 11
        }
      ],
      "source": [
        "y_train_n = y_train.reshape(y_train.shape[0], 32 * 64)\n",
        "y_test_n = y_test.reshape(y_test.shape[0], 32 * 64)\n",
        "\n",
        "y_test_n.shape"
      ]
    },
    {
      "cell_type": "code",
      "source": [
        "y_train_n[0]"
      ],
      "metadata": {
        "colab": {
          "base_uri": "https://localhost:8080/"
        },
        "id": "eZODpHoeipnJ",
        "outputId": "8c455282-6187-485a-cdc8-b212c8bf1018"
      },
      "execution_count": null,
      "outputs": [
        {
          "output_type": "execute_result",
          "data": {
            "text/plain": [
              "array([0.58264464, 0.677686  , 0.6859504 , ..., 0.45454547, 0.23966943,\n",
              "       0.1983471 ], dtype=float32)"
            ]
          },
          "metadata": {},
          "execution_count": 12
        }
      ]
    },
    {
      "cell_type": "code",
      "source": [
        "\n",
        "y_train_n.shape"
      ],
      "metadata": {
        "colab": {
          "base_uri": "https://localhost:8080/"
        },
        "id": "qiWcX2V4Y_Zy",
        "outputId": "0d7318a9-dbec-4a1b-f5d2-e69ff33ec523"
      },
      "execution_count": null,
      "outputs": [
        {
          "output_type": "execute_result",
          "data": {
            "text/plain": [
              "(320, 2048)"
            ]
          },
          "metadata": {},
          "execution_count": 13
        }
      ]
    },
    {
      "cell_type": "code",
      "execution_count": null,
      "metadata": {
        "id": "5UW7999mUCjb"
      },
      "outputs": [],
      "source": [
        "# Подключаем необходимые модули и пакеты\n",
        "from sklearn.preprocessing import LabelBinarizer\n",
        "from sklearn.model_selection import train_test_split\n",
        "from sklearn.metrics import classification_report\n",
        "from keras.models import Sequential\n",
        "from keras.layers.core import Dense\n",
        "from keras.optimizers import SGD\n",
        "from imutils import paths\n",
        "import matplotlib.pyplot as plt\n",
        "import numpy as np\n",
        "import random\n",
        "import pickle\n",
        "import cv2\n",
        "from google.colab.patches import cv2_imshow\n",
        "import os\n",
        "from plotly.subplots import make_subplots\n",
        "import plotly.graph_objects as go\n",
        "import math\n",
        "import numpy as np\n",
        "from keras.layers import Conv2D, MaxPooling2D, Dense, Flatten,  AveragePooling2D\n",
        " \n",
        "from keras.optimizers import Adam, SGD\n",
        "import matplotlib.pyplot as plt\n",
        "import numpy as np\n",
        "import keras"
      ]
    },
    {
      "cell_type": "markdown",
      "metadata": {
        "id": "TaoQfXrzGkV5"
      },
      "source": [
        "## 3.2. Создайте архитектуру для этой задачи"
      ]
    },
    {
      "cell_type": "code",
      "execution_count": null,
      "metadata": {
        "colab": {
          "base_uri": "https://localhost:8080/"
        },
        "id": "O0cB3seMGkV_",
        "outputId": "7270e28c-6b38-49dd-8f4d-7c6008a3f1ce"
      },
      "outputs": [
        {
          "output_type": "stream",
          "name": "stdout",
          "text": [
            "Model: \"sequential\"\n",
            "_________________________________________________________________\n",
            " Layer (type)                Output Shape              Param #   \n",
            "=================================================================\n",
            " flatten (Flatten)           (None, 2048)              0         \n",
            "                                                                 \n",
            " dense (Dense)               (None, 1024)              2098176   \n",
            "                                                                 \n",
            " dense_1 (Dense)             (None, 1024)              1049600   \n",
            "                                                                 \n",
            " dense_2 (Dense)             (None, 2048)              2099200   \n",
            "                                                                 \n",
            "=================================================================\n",
            "Total params: 5,246,976\n",
            "Trainable params: 5,246,976\n",
            "Non-trainable params: 0\n",
            "_________________________________________________________________\n"
          ]
        }
      ],
      "source": [
        "\n",
        "from keras.layers import Dense, Flatten\n",
        "from keras.models import Sequential\n",
        "\n",
        "\n",
        "model = Sequential([\n",
        "    Flatten(input_shape=(32, 64)),\n",
        "    Dense(1024, activation='relu'),\n",
        "    Dense(1024, activation='relu'),\n",
        "    Dense(32 * 64, activation='linear')\n",
        "])\n",
        "\n",
        "model.summary()"
      ]
    },
    {
      "cell_type": "code",
      "source": [
        "y_train_n"
      ],
      "metadata": {
        "colab": {
          "base_uri": "https://localhost:8080/"
        },
        "id": "XudGtt0YmHxV",
        "outputId": "3983197c-c1b8-4578-9a4d-2bfed4448366"
      },
      "execution_count": null,
      "outputs": [
        {
          "output_type": "execute_result",
          "data": {
            "text/plain": [
              "array([[0.58264464, 0.677686  , 0.6859504 , ..., 0.45454547, 0.23966943,\n",
              "        0.1983471 ],\n",
              "       [0.56198347, 0.57438016, 0.58264464, ..., 0.21487603, 0.2107438 ,\n",
              "        0.2231405 ],\n",
              "       [0.607438  , 0.55785125, 0.54545456, ..., 0.30165288, 0.44214877,\n",
              "        0.49586776],\n",
              "       ...,\n",
              "       [0.37603307, 0.38842976, 0.35123968, ..., 0.58677685, 0.59090906,\n",
              "        0.60330576],\n",
              "       [0.6404959 , 0.5247934 , 0.6280992 , ..., 0.2768595 , 0.2892562 ,\n",
              "        0.2603306 ],\n",
              "       [0.6322314 , 0.5371901 , 0.5206612 , ..., 0.46694216, 0.46280992,\n",
              "        0.45454547]], dtype=float32)"
            ]
          },
          "metadata": {},
          "execution_count": 16
        }
      ]
    },
    {
      "cell_type": "markdown",
      "metadata": {
        "id": "jvwQpCIsGkWA"
      },
      "source": [
        "## 3.3. Скомпилируйте сеть\n",
        "\n",
        "Подберите нужную функцию потерь и метрику. Оптимизатор можете использовать 'adam'"
      ]
    },
    {
      "cell_type": "code",
      "execution_count": null,
      "metadata": {
        "id": "NwoUip0-GkWA"
      },
      "outputs": [],
      "source": [
        "\n",
        "model.compile(optimizer='adam', loss='mse', metrics='mae')\n",
        " "
      ]
    },
    {
      "cell_type": "code",
      "source": [
        "y_train_n"
      ],
      "metadata": {
        "colab": {
          "base_uri": "https://localhost:8080/"
        },
        "id": "uYdSDH6emJjP",
        "outputId": "560e0a8f-7fde-4394-869f-a9a924ad1d03"
      },
      "execution_count": null,
      "outputs": [
        {
          "output_type": "execute_result",
          "data": {
            "text/plain": [
              "array([[0.58264464, 0.677686  , 0.6859504 , ..., 0.45454547, 0.23966943,\n",
              "        0.1983471 ],\n",
              "       [0.56198347, 0.57438016, 0.58264464, ..., 0.21487603, 0.2107438 ,\n",
              "        0.2231405 ],\n",
              "       [0.607438  , 0.55785125, 0.54545456, ..., 0.30165288, 0.44214877,\n",
              "        0.49586776],\n",
              "       ...,\n",
              "       [0.37603307, 0.38842976, 0.35123968, ..., 0.58677685, 0.59090906,\n",
              "        0.60330576],\n",
              "       [0.6404959 , 0.5247934 , 0.6280992 , ..., 0.2768595 , 0.2892562 ,\n",
              "        0.2603306 ],\n",
              "       [0.6322314 , 0.5371901 , 0.5206612 , ..., 0.46694216, 0.46280992,\n",
              "        0.45454547]], dtype=float32)"
            ]
          },
          "metadata": {},
          "execution_count": 18
        }
      ]
    },
    {
      "cell_type": "markdown",
      "metadata": {
        "id": "QQDeimPrGkWA"
      },
      "source": [
        "## 3.4. Обучите нейросеть\n",
        "\n",
        "Выберите нужное количество эпох.\n"
      ]
    },
    {
      "cell_type": "code",
      "execution_count": null,
      "metadata": {
        "colab": {
          "base_uri": "https://localhost:8080/"
        },
        "id": "TYi8LM6iGkWB",
        "outputId": "2553edf0-df99-4ef0-9dda-60fe4a0a9bb1"
      },
      "outputs": [
        {
          "output_type": "stream",
          "name": "stdout",
          "text": [
            "Epoch 1/300\n",
            "10/10 [==============================] - 3s 137ms/step - loss: 0.1005 - mae: 0.2269\n",
            "Epoch 2/300\n",
            "10/10 [==============================] - 1s 92ms/step - loss: 0.0239 - mae: 0.1230\n",
            "Epoch 3/300\n",
            "10/10 [==============================] - 1s 86ms/step - loss: 0.0196 - mae: 0.1104\n",
            "Epoch 4/300\n",
            "10/10 [==============================] - 1s 85ms/step - loss: 0.0190 - mae: 0.1093\n",
            "Epoch 5/300\n",
            "10/10 [==============================] - 1s 80ms/step - loss: 0.0171 - mae: 0.1024\n",
            "Epoch 6/300\n",
            "10/10 [==============================] - 1s 85ms/step - loss: 0.0161 - mae: 0.0991\n",
            "Epoch 7/300\n",
            "10/10 [==============================] - 1s 83ms/step - loss: 0.0164 - mae: 0.0998\n",
            "Epoch 8/300\n",
            "10/10 [==============================] - 1s 87ms/step - loss: 0.0153 - mae: 0.0961\n",
            "Epoch 9/300\n",
            "10/10 [==============================] - 1s 86ms/step - loss: 0.0147 - mae: 0.0936\n",
            "Epoch 10/300\n",
            "10/10 [==============================] - 1s 86ms/step - loss: 0.0145 - mae: 0.0934\n",
            "Epoch 11/300\n",
            "10/10 [==============================] - 1s 88ms/step - loss: 0.0142 - mae: 0.0919\n",
            "Epoch 12/300\n",
            "10/10 [==============================] - 1s 85ms/step - loss: 0.0154 - mae: 0.0968\n",
            "Epoch 13/300\n",
            "10/10 [==============================] - 1s 88ms/step - loss: 0.0144 - mae: 0.0929\n",
            "Epoch 14/300\n",
            "10/10 [==============================] - 1s 130ms/step - loss: 0.0136 - mae: 0.0897\n",
            "Epoch 15/300\n",
            "10/10 [==============================] - 1s 126ms/step - loss: 0.0150 - mae: 0.0951\n",
            "Epoch 16/300\n",
            "10/10 [==============================] - 1s 93ms/step - loss: 0.0139 - mae: 0.0908\n",
            "Epoch 17/300\n",
            "10/10 [==============================] - 1s 87ms/step - loss: 0.0136 - mae: 0.0897\n",
            "Epoch 18/300\n",
            "10/10 [==============================] - 1s 87ms/step - loss: 0.0134 - mae: 0.0892\n",
            "Epoch 19/300\n",
            "10/10 [==============================] - 1s 118ms/step - loss: 0.0132 - mae: 0.0882\n",
            "Epoch 20/300\n",
            "10/10 [==============================] - 1s 108ms/step - loss: 0.0134 - mae: 0.0894\n",
            "Epoch 21/300\n",
            "10/10 [==============================] - 1s 96ms/step - loss: 0.0132 - mae: 0.0886\n",
            "Epoch 22/300\n",
            "10/10 [==============================] - 1s 92ms/step - loss: 0.0125 - mae: 0.0853\n",
            "Epoch 23/300\n",
            "10/10 [==============================] - 1s 93ms/step - loss: 0.0128 - mae: 0.0869\n",
            "Epoch 24/300\n",
            "10/10 [==============================] - 1s 89ms/step - loss: 0.0134 - mae: 0.0895\n",
            "Epoch 25/300\n",
            "10/10 [==============================] - 1s 92ms/step - loss: 0.0132 - mae: 0.0884\n",
            "Epoch 26/300\n",
            "10/10 [==============================] - 1s 111ms/step - loss: 0.0126 - mae: 0.0860\n",
            "Epoch 27/300\n",
            "10/10 [==============================] - 1s 127ms/step - loss: 0.0123 - mae: 0.0845\n",
            "Epoch 28/300\n",
            "10/10 [==============================] - 1s 131ms/step - loss: 0.0126 - mae: 0.0865\n",
            "Epoch 29/300\n",
            "10/10 [==============================] - 1s 84ms/step - loss: 0.0118 - mae: 0.0826\n",
            "Epoch 30/300\n",
            "10/10 [==============================] - 1s 87ms/step - loss: 0.0121 - mae: 0.0840\n",
            "Epoch 31/300\n",
            "10/10 [==============================] - 1s 92ms/step - loss: 0.0131 - mae: 0.0885\n",
            "Epoch 32/300\n",
            "10/10 [==============================] - 1s 92ms/step - loss: 0.0123 - mae: 0.0857\n",
            "Epoch 33/300\n",
            "10/10 [==============================] - 1s 135ms/step - loss: 0.0119 - mae: 0.0832\n",
            "Epoch 34/300\n",
            "10/10 [==============================] - 1s 88ms/step - loss: 0.0114 - mae: 0.0815\n",
            "Epoch 35/300\n",
            "10/10 [==============================] - 1s 94ms/step - loss: 0.0111 - mae: 0.0807\n",
            "Epoch 36/300\n",
            "10/10 [==============================] - 1s 90ms/step - loss: 0.0109 - mae: 0.0791\n",
            "Epoch 37/300\n",
            "10/10 [==============================] - 1s 93ms/step - loss: 0.0108 - mae: 0.0791\n",
            "Epoch 38/300\n",
            "10/10 [==============================] - 1s 89ms/step - loss: 0.0108 - mae: 0.0791\n",
            "Epoch 39/300\n",
            "10/10 [==============================] - 1s 109ms/step - loss: 0.0114 - mae: 0.0821\n",
            "Epoch 40/300\n",
            "10/10 [==============================] - 1s 135ms/step - loss: 0.0109 - mae: 0.0794\n",
            "Epoch 41/300\n",
            "10/10 [==============================] - 1s 117ms/step - loss: 0.0107 - mae: 0.0788\n",
            "Epoch 42/300\n",
            "10/10 [==============================] - 1s 137ms/step - loss: 0.0108 - mae: 0.0794\n",
            "Epoch 43/300\n",
            "10/10 [==============================] - 1s 133ms/step - loss: 0.0112 - mae: 0.0809\n",
            "Epoch 44/300\n",
            "10/10 [==============================] - 1s 86ms/step - loss: 0.0104 - mae: 0.0774\n",
            "Epoch 45/300\n",
            "10/10 [==============================] - 1s 90ms/step - loss: 0.0103 - mae: 0.0774\n",
            "Epoch 46/300\n",
            "10/10 [==============================] - 1s 84ms/step - loss: 0.0108 - mae: 0.0793\n",
            "Epoch 47/300\n",
            "10/10 [==============================] - 1s 92ms/step - loss: 0.0120 - mae: 0.0848\n",
            "Epoch 48/300\n",
            "10/10 [==============================] - 1s 90ms/step - loss: 0.0104 - mae: 0.0779\n",
            "Epoch 49/300\n",
            "10/10 [==============================] - 1s 94ms/step - loss: 0.0112 - mae: 0.0807\n",
            "Epoch 50/300\n",
            "10/10 [==============================] - 1s 87ms/step - loss: 0.0115 - mae: 0.0823\n",
            "Epoch 51/300\n",
            "10/10 [==============================] - 1s 96ms/step - loss: 0.0119 - mae: 0.0845\n",
            "Epoch 52/300\n",
            "10/10 [==============================] - 1s 136ms/step - loss: 0.0114 - mae: 0.0820\n",
            "Epoch 53/300\n",
            "10/10 [==============================] - 1s 135ms/step - loss: 0.0108 - mae: 0.0795\n",
            "Epoch 54/300\n",
            "10/10 [==============================] - 1s 86ms/step - loss: 0.0097 - mae: 0.0747\n",
            "Epoch 55/300\n",
            "10/10 [==============================] - 1s 95ms/step - loss: 0.0094 - mae: 0.0735\n",
            "Epoch 56/300\n",
            "10/10 [==============================] - 1s 94ms/step - loss: 0.0101 - mae: 0.0760\n",
            "Epoch 57/300\n",
            "10/10 [==============================] - 1s 90ms/step - loss: 0.0098 - mae: 0.0750\n",
            "Epoch 58/300\n",
            "10/10 [==============================] - 1s 93ms/step - loss: 0.0096 - mae: 0.0742\n",
            "Epoch 59/300\n",
            "10/10 [==============================] - 1s 98ms/step - loss: 0.0097 - mae: 0.0745\n",
            "Epoch 60/300\n",
            "10/10 [==============================] - 1s 96ms/step - loss: 0.0095 - mae: 0.0742\n",
            "Epoch 61/300\n",
            "10/10 [==============================] - 1s 94ms/step - loss: 0.0092 - mae: 0.0725\n",
            "Epoch 62/300\n",
            "10/10 [==============================] - 1s 95ms/step - loss: 0.0090 - mae: 0.0715\n",
            "Epoch 63/300\n",
            "10/10 [==============================] - 1s 92ms/step - loss: 0.0089 - mae: 0.0712\n",
            "Epoch 64/300\n",
            "10/10 [==============================] - 1s 106ms/step - loss: 0.0102 - mae: 0.0777\n",
            "Epoch 65/300\n",
            "10/10 [==============================] - 1s 129ms/step - loss: 0.0088 - mae: 0.0709\n",
            "Epoch 66/300\n",
            "10/10 [==============================] - 1s 137ms/step - loss: 0.0088 - mae: 0.0712\n",
            "Epoch 67/300\n",
            "10/10 [==============================] - 1s 99ms/step - loss: 0.0089 - mae: 0.0713\n",
            "Epoch 68/300\n",
            "10/10 [==============================] - 1s 97ms/step - loss: 0.0086 - mae: 0.0704\n",
            "Epoch 69/300\n",
            "10/10 [==============================] - 1s 96ms/step - loss: 0.0087 - mae: 0.0706\n",
            "Epoch 70/300\n",
            "10/10 [==============================] - 1s 96ms/step - loss: 0.0092 - mae: 0.0729\n",
            "Epoch 71/300\n",
            "10/10 [==============================] - 1s 97ms/step - loss: 0.0090 - mae: 0.0721\n",
            "Epoch 72/300\n",
            "10/10 [==============================] - 1s 93ms/step - loss: 0.0084 - mae: 0.0691\n",
            "Epoch 73/300\n",
            "10/10 [==============================] - 1s 92ms/step - loss: 0.0081 - mae: 0.0678\n",
            "Epoch 74/300\n",
            "10/10 [==============================] - 1s 94ms/step - loss: 0.0083 - mae: 0.0686\n",
            "Epoch 75/300\n",
            "10/10 [==============================] - 1s 97ms/step - loss: 0.0081 - mae: 0.0679\n",
            "Epoch 76/300\n",
            "10/10 [==============================] - 1s 98ms/step - loss: 0.0082 - mae: 0.0683\n",
            "Epoch 77/300\n",
            "10/10 [==============================] - 1s 127ms/step - loss: 0.0084 - mae: 0.0696\n",
            "Epoch 78/300\n",
            "10/10 [==============================] - 1s 126ms/step - loss: 0.0092 - mae: 0.0743\n",
            "Epoch 79/300\n",
            "10/10 [==============================] - 1s 111ms/step - loss: 0.0085 - mae: 0.0697\n",
            "Epoch 80/300\n",
            "10/10 [==============================] - 1s 94ms/step - loss: 0.0080 - mae: 0.0676\n",
            "Epoch 81/300\n",
            "10/10 [==============================] - 1s 91ms/step - loss: 0.0078 - mae: 0.0663\n",
            "Epoch 82/300\n",
            "10/10 [==============================] - 1s 88ms/step - loss: 0.0077 - mae: 0.0656\n",
            "Epoch 83/300\n",
            "10/10 [==============================] - 1s 93ms/step - loss: 0.0082 - mae: 0.0689\n",
            "Epoch 84/300\n",
            "10/10 [==============================] - 1s 92ms/step - loss: 0.0088 - mae: 0.0714\n",
            "Epoch 85/300\n",
            "10/10 [==============================] - 1s 93ms/step - loss: 0.0086 - mae: 0.0706\n",
            "Epoch 86/300\n",
            "10/10 [==============================] - 1s 98ms/step - loss: 0.0081 - mae: 0.0680\n",
            "Epoch 87/300\n",
            "10/10 [==============================] - 1s 93ms/step - loss: 0.0076 - mae: 0.0654\n",
            "Epoch 88/300\n",
            "10/10 [==============================] - 1s 97ms/step - loss: 0.0078 - mae: 0.0665\n",
            "Epoch 89/300\n",
            "10/10 [==============================] - 1s 92ms/step - loss: 0.0081 - mae: 0.0683\n",
            "Epoch 90/300\n",
            "10/10 [==============================] - 1s 134ms/step - loss: 0.0078 - mae: 0.0669\n",
            "Epoch 91/300\n",
            "10/10 [==============================] - 1s 134ms/step - loss: 0.0077 - mae: 0.0662\n",
            "Epoch 92/300\n",
            "10/10 [==============================] - 1s 101ms/step - loss: 0.0072 - mae: 0.0638\n",
            "Epoch 93/300\n",
            "10/10 [==============================] - 1s 93ms/step - loss: 0.0075 - mae: 0.0651\n",
            "Epoch 94/300\n",
            "10/10 [==============================] - 1s 94ms/step - loss: 0.0079 - mae: 0.0673\n",
            "Epoch 95/300\n",
            "10/10 [==============================] - 1s 94ms/step - loss: 0.0073 - mae: 0.0641\n",
            "Epoch 96/300\n",
            "10/10 [==============================] - 1s 97ms/step - loss: 0.0072 - mae: 0.0639\n",
            "Epoch 97/300\n",
            "10/10 [==============================] - 1s 95ms/step - loss: 0.0070 - mae: 0.0629\n",
            "Epoch 98/300\n",
            "10/10 [==============================] - 1s 94ms/step - loss: 0.0075 - mae: 0.0661\n",
            "Epoch 99/300\n",
            "10/10 [==============================] - 1s 94ms/step - loss: 0.0070 - mae: 0.0627\n",
            "Epoch 100/300\n",
            "10/10 [==============================] - 1s 98ms/step - loss: 0.0068 - mae: 0.0615\n",
            "Epoch 101/300\n",
            "10/10 [==============================] - 1s 92ms/step - loss: 0.0069 - mae: 0.0619\n",
            "Epoch 102/300\n",
            "10/10 [==============================] - 1s 97ms/step - loss: 0.0067 - mae: 0.0610\n",
            "Epoch 103/300\n",
            "10/10 [==============================] - 1s 132ms/step - loss: 0.0067 - mae: 0.0612\n",
            "Epoch 104/300\n",
            "10/10 [==============================] - 1s 137ms/step - loss: 0.0068 - mae: 0.0618\n",
            "Epoch 105/300\n",
            "10/10 [==============================] - 1s 93ms/step - loss: 0.0070 - mae: 0.0623\n",
            "Epoch 106/300\n",
            "10/10 [==============================] - 1s 95ms/step - loss: 0.0065 - mae: 0.0605\n",
            "Epoch 107/300\n",
            "10/10 [==============================] - 1s 96ms/step - loss: 0.0065 - mae: 0.0599\n",
            "Epoch 108/300\n",
            "10/10 [==============================] - 1s 89ms/step - loss: 0.0062 - mae: 0.0586\n",
            "Epoch 109/300\n",
            "10/10 [==============================] - 1s 92ms/step - loss: 0.0063 - mae: 0.0589\n",
            "Epoch 110/300\n",
            "10/10 [==============================] - 1s 91ms/step - loss: 0.0064 - mae: 0.0595\n",
            "Epoch 111/300\n",
            "10/10 [==============================] - 1s 95ms/step - loss: 0.0065 - mae: 0.0603\n",
            "Epoch 112/300\n",
            "10/10 [==============================] - 1s 97ms/step - loss: 0.0064 - mae: 0.0598\n",
            "Epoch 113/300\n",
            "10/10 [==============================] - 1s 90ms/step - loss: 0.0061 - mae: 0.0579\n",
            "Epoch 114/300\n",
            "10/10 [==============================] - 1s 97ms/step - loss: 0.0066 - mae: 0.0610\n",
            "Epoch 115/300\n",
            "10/10 [==============================] - 1s 113ms/step - loss: 0.0067 - mae: 0.0612\n",
            "Epoch 116/300\n",
            "10/10 [==============================] - 1s 138ms/step - loss: 0.0072 - mae: 0.0642\n",
            "Epoch 117/300\n",
            "10/10 [==============================] - 1s 122ms/step - loss: 0.0074 - mae: 0.0652\n",
            "Epoch 118/300\n",
            "10/10 [==============================] - 1s 96ms/step - loss: 0.0071 - mae: 0.0638\n",
            "Epoch 119/300\n",
            "10/10 [==============================] - 1s 92ms/step - loss: 0.0067 - mae: 0.0616\n",
            "Epoch 120/300\n",
            "10/10 [==============================] - 1s 101ms/step - loss: 0.0062 - mae: 0.0590\n",
            "Epoch 121/300\n",
            "10/10 [==============================] - 1s 90ms/step - loss: 0.0060 - mae: 0.0575\n",
            "Epoch 122/300\n",
            "10/10 [==============================] - 1s 93ms/step - loss: 0.0060 - mae: 0.0575\n",
            "Epoch 123/300\n",
            "10/10 [==============================] - 1s 89ms/step - loss: 0.0059 - mae: 0.0569\n",
            "Epoch 124/300\n",
            "10/10 [==============================] - 1s 122ms/step - loss: 0.0064 - mae: 0.0600\n",
            "Epoch 125/300\n",
            "10/10 [==============================] - 2s 158ms/step - loss: 0.0061 - mae: 0.0582\n",
            "Epoch 126/300\n",
            "10/10 [==============================] - 1s 101ms/step - loss: 0.0062 - mae: 0.0590\n",
            "Epoch 127/300\n",
            "10/10 [==============================] - 1s 142ms/step - loss: 0.0058 - mae: 0.0565\n",
            "Epoch 128/300\n",
            "10/10 [==============================] - 1s 134ms/step - loss: 0.0057 - mae: 0.0562\n",
            "Epoch 129/300\n",
            "10/10 [==============================] - 1s 108ms/step - loss: 0.0057 - mae: 0.0565\n",
            "Epoch 130/300\n",
            "10/10 [==============================] - 1s 94ms/step - loss: 0.0056 - mae: 0.0555\n",
            "Epoch 131/300\n",
            "10/10 [==============================] - 1s 94ms/step - loss: 0.0059 - mae: 0.0575\n",
            "Epoch 132/300\n",
            "10/10 [==============================] - 1s 92ms/step - loss: 0.0056 - mae: 0.0555\n",
            "Epoch 133/300\n",
            "10/10 [==============================] - 1s 96ms/step - loss: 0.0055 - mae: 0.0552\n",
            "Epoch 134/300\n",
            "10/10 [==============================] - 1s 91ms/step - loss: 0.0055 - mae: 0.0551\n",
            "Epoch 135/300\n",
            "10/10 [==============================] - 1s 101ms/step - loss: 0.0055 - mae: 0.0550\n",
            "Epoch 136/300\n",
            "10/10 [==============================] - 1s 94ms/step - loss: 0.0053 - mae: 0.0538\n",
            "Epoch 137/300\n",
            "10/10 [==============================] - 1s 103ms/step - loss: 0.0053 - mae: 0.0537\n",
            "Epoch 138/300\n",
            "10/10 [==============================] - 1s 98ms/step - loss: 0.0056 - mae: 0.0555\n",
            "Epoch 139/300\n",
            "10/10 [==============================] - 1s 105ms/step - loss: 0.0058 - mae: 0.0571\n",
            "Epoch 140/300\n",
            "10/10 [==============================] - 1s 132ms/step - loss: 0.0054 - mae: 0.0547\n",
            "Epoch 141/300\n",
            "10/10 [==============================] - 1s 135ms/step - loss: 0.0052 - mae: 0.0535\n",
            "Epoch 142/300\n",
            "10/10 [==============================] - 1s 95ms/step - loss: 0.0055 - mae: 0.0553\n",
            "Epoch 143/300\n",
            "10/10 [==============================] - 1s 94ms/step - loss: 0.0054 - mae: 0.0548\n",
            "Epoch 144/300\n",
            "10/10 [==============================] - 1s 92ms/step - loss: 0.0052 - mae: 0.0537\n",
            "Epoch 145/300\n",
            "10/10 [==============================] - 1s 93ms/step - loss: 0.0051 - mae: 0.0532\n",
            "Epoch 146/300\n",
            "10/10 [==============================] - 1s 93ms/step - loss: 0.0052 - mae: 0.0535\n",
            "Epoch 147/300\n",
            "10/10 [==============================] - 1s 94ms/step - loss: 0.0050 - mae: 0.0521\n",
            "Epoch 148/300\n",
            "10/10 [==============================] - 1s 94ms/step - loss: 0.0051 - mae: 0.0528\n",
            "Epoch 149/300\n",
            "10/10 [==============================] - 1s 100ms/step - loss: 0.0052 - mae: 0.0537\n",
            "Epoch 150/300\n",
            "10/10 [==============================] - 1s 93ms/step - loss: 0.0052 - mae: 0.0537\n",
            "Epoch 151/300\n",
            "10/10 [==============================] - 1s 93ms/step - loss: 0.0050 - mae: 0.0525\n",
            "Epoch 152/300\n",
            "10/10 [==============================] - 1s 117ms/step - loss: 0.0049 - mae: 0.0521\n",
            "Epoch 153/300\n",
            "10/10 [==============================] - 1s 136ms/step - loss: 0.0052 - mae: 0.0536\n",
            "Epoch 154/300\n",
            "10/10 [==============================] - 1s 115ms/step - loss: 0.0049 - mae: 0.0515\n",
            "Epoch 155/300\n",
            "10/10 [==============================] - 1s 92ms/step - loss: 0.0050 - mae: 0.0526\n",
            "Epoch 156/300\n",
            "10/10 [==============================] - 1s 97ms/step - loss: 0.0051 - mae: 0.0528\n",
            "Epoch 157/300\n",
            "10/10 [==============================] - 1s 97ms/step - loss: 0.0049 - mae: 0.0520\n",
            "Epoch 158/300\n",
            "10/10 [==============================] - 1s 99ms/step - loss: 0.0048 - mae: 0.0513\n",
            "Epoch 159/300\n",
            "10/10 [==============================] - 1s 93ms/step - loss: 0.0047 - mae: 0.0504\n",
            "Epoch 160/300\n",
            "10/10 [==============================] - 1s 98ms/step - loss: 0.0047 - mae: 0.0508\n",
            "Epoch 161/300\n",
            "10/10 [==============================] - 1s 93ms/step - loss: 0.0045 - mae: 0.0494\n",
            "Epoch 162/300\n",
            "10/10 [==============================] - 1s 93ms/step - loss: 0.0046 - mae: 0.0500\n",
            "Epoch 163/300\n",
            "10/10 [==============================] - 1s 98ms/step - loss: 0.0047 - mae: 0.0507\n",
            "Epoch 164/300\n",
            "10/10 [==============================] - 1s 94ms/step - loss: 0.0049 - mae: 0.0525\n",
            "Epoch 165/300\n",
            "10/10 [==============================] - 1s 136ms/step - loss: 0.0046 - mae: 0.0499\n",
            "Epoch 166/300\n",
            "10/10 [==============================] - 1s 136ms/step - loss: 0.0049 - mae: 0.0528\n",
            "Epoch 167/300\n",
            "10/10 [==============================] - 1s 97ms/step - loss: 0.0048 - mae: 0.0516\n",
            "Epoch 168/300\n",
            "10/10 [==============================] - 1s 95ms/step - loss: 0.0044 - mae: 0.0490\n",
            "Epoch 169/300\n",
            "10/10 [==============================] - 1s 96ms/step - loss: 0.0046 - mae: 0.0507\n",
            "Epoch 170/300\n",
            "10/10 [==============================] - 1s 95ms/step - loss: 0.0044 - mae: 0.0490\n",
            "Epoch 171/300\n",
            "10/10 [==============================] - 1s 92ms/step - loss: 0.0044 - mae: 0.0489\n",
            "Epoch 172/300\n",
            "10/10 [==============================] - 1s 93ms/step - loss: 0.0049 - mae: 0.0525\n",
            "Epoch 173/300\n",
            "10/10 [==============================] - 1s 98ms/step - loss: 0.0046 - mae: 0.0506\n",
            "Epoch 174/300\n",
            "10/10 [==============================] - 1s 98ms/step - loss: 0.0045 - mae: 0.0496\n",
            "Epoch 175/300\n",
            "10/10 [==============================] - 1s 92ms/step - loss: 0.0044 - mae: 0.0487\n",
            "Epoch 176/300\n",
            "10/10 [==============================] - 1s 90ms/step - loss: 0.0045 - mae: 0.0495\n",
            "Epoch 177/300\n",
            "10/10 [==============================] - 1s 116ms/step - loss: 0.0043 - mae: 0.0482\n",
            "Epoch 178/300\n",
            "10/10 [==============================] - 1s 134ms/step - loss: 0.0044 - mae: 0.0488\n",
            "Epoch 179/300\n",
            "10/10 [==============================] - 1s 131ms/step - loss: 0.0044 - mae: 0.0490\n",
            "Epoch 180/300\n",
            "10/10 [==============================] - 1s 90ms/step - loss: 0.0044 - mae: 0.0488\n",
            "Epoch 181/300\n",
            "10/10 [==============================] - 1s 94ms/step - loss: 0.0043 - mae: 0.0484\n",
            "Epoch 182/300\n",
            "10/10 [==============================] - 1s 98ms/step - loss: 0.0041 - mae: 0.0472\n",
            "Epoch 183/300\n",
            "10/10 [==============================] - 1s 98ms/step - loss: 0.0044 - mae: 0.0496\n",
            "Epoch 184/300\n",
            "10/10 [==============================] - 1s 93ms/step - loss: 0.0049 - mae: 0.0526\n",
            "Epoch 185/300\n",
            "10/10 [==============================] - 1s 93ms/step - loss: 0.0047 - mae: 0.0512\n",
            "Epoch 186/300\n",
            "10/10 [==============================] - 1s 96ms/step - loss: 0.0044 - mae: 0.0490\n",
            "Epoch 187/300\n",
            "10/10 [==============================] - 1s 99ms/step - loss: 0.0043 - mae: 0.0488\n",
            "Epoch 188/300\n",
            "10/10 [==============================] - 1s 91ms/step - loss: 0.0046 - mae: 0.0512\n",
            "Epoch 189/300\n",
            "10/10 [==============================] - 1s 98ms/step - loss: 0.0045 - mae: 0.0500\n",
            "Epoch 190/300\n",
            "10/10 [==============================] - 1s 120ms/step - loss: 0.0042 - mae: 0.0476\n",
            "Epoch 191/300\n",
            "10/10 [==============================] - 1s 131ms/step - loss: 0.0043 - mae: 0.0484\n",
            "Epoch 192/300\n",
            "10/10 [==============================] - 1s 116ms/step - loss: 0.0041 - mae: 0.0472\n",
            "Epoch 193/300\n",
            "10/10 [==============================] - 1s 92ms/step - loss: 0.0040 - mae: 0.0466\n",
            "Epoch 194/300\n",
            "10/10 [==============================] - 1s 97ms/step - loss: 0.0039 - mae: 0.0460\n",
            "Epoch 195/300\n",
            "10/10 [==============================] - 1s 100ms/step - loss: 0.0040 - mae: 0.0464\n",
            "Epoch 196/300\n",
            "10/10 [==============================] - 1s 98ms/step - loss: 0.0039 - mae: 0.0464\n",
            "Epoch 197/300\n",
            "10/10 [==============================] - 1s 97ms/step - loss: 0.0038 - mae: 0.0456\n",
            "Epoch 198/300\n",
            "10/10 [==============================] - 1s 96ms/step - loss: 0.0038 - mae: 0.0454\n",
            "Epoch 199/300\n",
            "10/10 [==============================] - 1s 96ms/step - loss: 0.0038 - mae: 0.0454\n",
            "Epoch 200/300\n",
            "10/10 [==============================] - 1s 93ms/step - loss: 0.0039 - mae: 0.0463\n",
            "Epoch 201/300\n",
            "10/10 [==============================] - 1s 92ms/step - loss: 0.0037 - mae: 0.0448\n",
            "Epoch 202/300\n",
            "10/10 [==============================] - 1s 94ms/step - loss: 0.0037 - mae: 0.0447\n",
            "Epoch 203/300\n",
            "10/10 [==============================] - 1s 133ms/step - loss: 0.0037 - mae: 0.0444\n",
            "Epoch 204/300\n",
            "10/10 [==============================] - 1s 131ms/step - loss: 0.0035 - mae: 0.0436\n",
            "Epoch 205/300\n",
            "10/10 [==============================] - 1s 96ms/step - loss: 0.0036 - mae: 0.0440\n",
            "Epoch 206/300\n",
            "10/10 [==============================] - 1s 93ms/step - loss: 0.0037 - mae: 0.0446\n",
            "Epoch 207/300\n",
            "10/10 [==============================] - 1s 101ms/step - loss: 0.0035 - mae: 0.0433\n",
            "Epoch 208/300\n",
            "10/10 [==============================] - 1s 94ms/step - loss: 0.0037 - mae: 0.0450\n",
            "Epoch 209/300\n",
            "10/10 [==============================] - 1s 94ms/step - loss: 0.0036 - mae: 0.0443\n",
            "Epoch 210/300\n",
            "10/10 [==============================] - 1s 94ms/step - loss: 0.0036 - mae: 0.0442\n",
            "Epoch 211/300\n",
            "10/10 [==============================] - 1s 90ms/step - loss: 0.0036 - mae: 0.0442\n",
            "Epoch 212/300\n",
            "10/10 [==============================] - 1s 97ms/step - loss: 0.0038 - mae: 0.0457\n",
            "Epoch 213/300\n",
            "10/10 [==============================] - 1s 93ms/step - loss: 0.0036 - mae: 0.0443\n",
            "Epoch 214/300\n",
            "10/10 [==============================] - 1s 92ms/step - loss: 0.0041 - mae: 0.0482\n",
            "Epoch 215/300\n",
            "10/10 [==============================] - 1s 101ms/step - loss: 0.0037 - mae: 0.0452\n",
            "Epoch 216/300\n",
            "10/10 [==============================] - 1s 125ms/step - loss: 0.0037 - mae: 0.0444\n",
            "Epoch 217/300\n",
            "10/10 [==============================] - 1s 135ms/step - loss: 0.0036 - mae: 0.0441\n",
            "Epoch 218/300\n",
            "10/10 [==============================] - 1s 94ms/step - loss: 0.0035 - mae: 0.0438\n",
            "Epoch 219/300\n",
            "10/10 [==============================] - 1s 95ms/step - loss: 0.0035 - mae: 0.0433\n",
            "Epoch 220/300\n",
            "10/10 [==============================] - 1s 96ms/step - loss: 0.0033 - mae: 0.0420\n",
            "Epoch 221/300\n",
            "10/10 [==============================] - 1s 92ms/step - loss: 0.0033 - mae: 0.0426\n",
            "Epoch 222/300\n",
            "10/10 [==============================] - 1s 96ms/step - loss: 0.0032 - mae: 0.0414\n",
            "Epoch 223/300\n",
            "10/10 [==============================] - 1s 95ms/step - loss: 0.0031 - mae: 0.0408\n",
            "Epoch 224/300\n",
            "10/10 [==============================] - 1s 91ms/step - loss: 0.0032 - mae: 0.0415\n",
            "Epoch 225/300\n",
            "10/10 [==============================] - 1s 97ms/step - loss: 0.0035 - mae: 0.0434\n",
            "Epoch 226/300\n",
            "10/10 [==============================] - 1s 98ms/step - loss: 0.0035 - mae: 0.0435\n",
            "Epoch 227/300\n",
            "10/10 [==============================] - 1s 92ms/step - loss: 0.0034 - mae: 0.0427\n",
            "Epoch 228/300\n",
            "10/10 [==============================] - 1s 111ms/step - loss: 0.0032 - mae: 0.0414\n",
            "Epoch 229/300\n",
            "10/10 [==============================] - 1s 135ms/step - loss: 0.0032 - mae: 0.0414\n",
            "Epoch 230/300\n",
            "10/10 [==============================] - 1s 127ms/step - loss: 0.0032 - mae: 0.0415\n",
            "Epoch 231/300\n",
            "10/10 [==============================] - 1s 95ms/step - loss: 0.0032 - mae: 0.0416\n",
            "Epoch 232/300\n",
            "10/10 [==============================] - 1s 90ms/step - loss: 0.0032 - mae: 0.0419\n",
            "Epoch 233/300\n",
            "10/10 [==============================] - 1s 97ms/step - loss: 0.0032 - mae: 0.0413\n",
            "Epoch 234/300\n",
            "10/10 [==============================] - 1s 96ms/step - loss: 0.0031 - mae: 0.0405\n",
            "Epoch 235/300\n",
            "10/10 [==============================] - 1s 93ms/step - loss: 0.0030 - mae: 0.0400\n",
            "Epoch 236/300\n",
            "10/10 [==============================] - 1s 97ms/step - loss: 0.0029 - mae: 0.0391\n",
            "Epoch 237/300\n",
            "10/10 [==============================] - 1s 95ms/step - loss: 0.0029 - mae: 0.0391\n",
            "Epoch 238/300\n",
            "10/10 [==============================] - 1s 96ms/step - loss: 0.0029 - mae: 0.0392\n",
            "Epoch 239/300\n",
            "10/10 [==============================] - 1s 93ms/step - loss: 0.0031 - mae: 0.0410\n",
            "Epoch 240/300\n",
            "10/10 [==============================] - 1s 95ms/step - loss: 0.0030 - mae: 0.0398\n",
            "Epoch 241/300\n",
            "10/10 [==============================] - 1s 124ms/step - loss: 0.0029 - mae: 0.0391\n",
            "Epoch 242/300\n",
            "10/10 [==============================] - 1s 130ms/step - loss: 0.0030 - mae: 0.0397\n",
            "Epoch 243/300\n",
            "10/10 [==============================] - 1s 114ms/step - loss: 0.0030 - mae: 0.0400\n",
            "Epoch 244/300\n",
            "10/10 [==============================] - 1s 97ms/step - loss: 0.0033 - mae: 0.0428\n",
            "Epoch 245/300\n",
            "10/10 [==============================] - 1s 88ms/step - loss: 0.0032 - mae: 0.0420\n",
            "Epoch 246/300\n",
            "10/10 [==============================] - 1s 91ms/step - loss: 0.0031 - mae: 0.0407\n",
            "Epoch 247/300\n",
            "10/10 [==============================] - 1s 97ms/step - loss: 0.0029 - mae: 0.0393\n",
            "Epoch 248/300\n",
            "10/10 [==============================] - 1s 90ms/step - loss: 0.0032 - mae: 0.0421\n",
            "Epoch 249/300\n",
            "10/10 [==============================] - 1s 92ms/step - loss: 0.0037 - mae: 0.0454\n",
            "Epoch 250/300\n",
            "10/10 [==============================] - 1s 94ms/step - loss: 0.0040 - mae: 0.0481\n",
            "Epoch 251/300\n",
            "10/10 [==============================] - 1s 95ms/step - loss: 0.0039 - mae: 0.0468\n",
            "Epoch 252/300\n",
            "10/10 [==============================] - 1s 94ms/step - loss: 0.0034 - mae: 0.0431\n",
            "Epoch 253/300\n",
            "10/10 [==============================] - 1s 92ms/step - loss: 0.0032 - mae: 0.0422\n",
            "Epoch 254/300\n",
            "10/10 [==============================] - 1s 133ms/step - loss: 0.0032 - mae: 0.0418\n",
            "Epoch 255/300\n",
            "10/10 [==============================] - 1s 125ms/step - loss: 0.0033 - mae: 0.0424\n",
            "Epoch 256/300\n",
            "10/10 [==============================] - 1s 107ms/step - loss: 0.0031 - mae: 0.0415\n",
            "Epoch 257/300\n",
            "10/10 [==============================] - 1s 91ms/step - loss: 0.0031 - mae: 0.0411\n",
            "Epoch 258/300\n",
            "10/10 [==============================] - 1s 92ms/step - loss: 0.0030 - mae: 0.0401\n",
            "Epoch 259/300\n",
            "10/10 [==============================] - 1s 92ms/step - loss: 0.0028 - mae: 0.0388\n",
            "Epoch 260/300\n",
            "10/10 [==============================] - 1s 92ms/step - loss: 0.0029 - mae: 0.0396\n",
            "Epoch 261/300\n",
            "10/10 [==============================] - 1s 91ms/step - loss: 0.0034 - mae: 0.0440\n",
            "Epoch 262/300\n",
            "10/10 [==============================] - 1s 97ms/step - loss: 0.0031 - mae: 0.0412\n",
            "Epoch 263/300\n",
            "10/10 [==============================] - 1s 95ms/step - loss: 0.0029 - mae: 0.0394\n",
            "Epoch 264/300\n",
            "10/10 [==============================] - 1s 93ms/step - loss: 0.0028 - mae: 0.0392\n",
            "Epoch 265/300\n",
            "10/10 [==============================] - 1s 97ms/step - loss: 0.0028 - mae: 0.0390\n",
            "Epoch 266/300\n",
            "10/10 [==============================] - 1s 95ms/step - loss: 0.0028 - mae: 0.0391\n",
            "Epoch 267/300\n",
            "10/10 [==============================] - 1s 137ms/step - loss: 0.0028 - mae: 0.0384\n",
            "Epoch 268/300\n",
            "10/10 [==============================] - 1s 123ms/step - loss: 0.0026 - mae: 0.0374\n",
            "Epoch 269/300\n",
            "10/10 [==============================] - 1s 105ms/step - loss: 0.0028 - mae: 0.0386\n",
            "Epoch 270/300\n",
            "10/10 [==============================] - 1s 93ms/step - loss: 0.0029 - mae: 0.0397\n",
            "Epoch 271/300\n",
            "10/10 [==============================] - 1s 93ms/step - loss: 0.0028 - mae: 0.0390\n",
            "Epoch 272/300\n",
            "10/10 [==============================] - 1s 90ms/step - loss: 0.0026 - mae: 0.0375\n",
            "Epoch 273/300\n",
            "10/10 [==============================] - 1s 97ms/step - loss: 0.0027 - mae: 0.0384\n",
            "Epoch 274/300\n",
            "10/10 [==============================] - 1s 92ms/step - loss: 0.0030 - mae: 0.0402\n",
            "Epoch 275/300\n",
            "10/10 [==============================] - 1s 97ms/step - loss: 0.0029 - mae: 0.0400\n",
            "Epoch 276/300\n",
            "10/10 [==============================] - 1s 95ms/step - loss: 0.0028 - mae: 0.0388\n",
            "Epoch 277/300\n",
            "10/10 [==============================] - 1s 100ms/step - loss: 0.0028 - mae: 0.0389\n",
            "Epoch 278/300\n",
            "10/10 [==============================] - 1s 97ms/step - loss: 0.0026 - mae: 0.0371\n",
            "Epoch 279/300\n",
            "10/10 [==============================] - 1s 118ms/step - loss: 0.0025 - mae: 0.0365\n",
            "Epoch 280/300\n",
            "10/10 [==============================] - 1s 133ms/step - loss: 0.0025 - mae: 0.0364\n",
            "Epoch 281/300\n",
            "10/10 [==============================] - 1s 127ms/step - loss: 0.0025 - mae: 0.0364\n",
            "Epoch 282/300\n",
            "10/10 [==============================] - 1s 99ms/step - loss: 0.0025 - mae: 0.0369\n",
            "Epoch 283/300\n",
            "10/10 [==============================] - 1s 98ms/step - loss: 0.0024 - mae: 0.0356\n",
            "Epoch 284/300\n",
            "10/10 [==============================] - 1s 94ms/step - loss: 0.0024 - mae: 0.0353\n",
            "Epoch 285/300\n",
            "10/10 [==============================] - 1s 92ms/step - loss: 0.0024 - mae: 0.0359\n",
            "Epoch 286/300\n",
            "10/10 [==============================] - 1s 96ms/step - loss: 0.0025 - mae: 0.0369\n",
            "Epoch 287/300\n",
            "10/10 [==============================] - 1s 98ms/step - loss: 0.0028 - mae: 0.0392\n",
            "Epoch 288/300\n",
            "10/10 [==============================] - 1s 91ms/step - loss: 0.0030 - mae: 0.0411\n",
            "Epoch 289/300\n",
            "10/10 [==============================] - 1s 95ms/step - loss: 0.0035 - mae: 0.0452\n",
            "Epoch 290/300\n",
            "10/10 [==============================] - 1s 93ms/step - loss: 0.0032 - mae: 0.0424\n",
            "Epoch 291/300\n",
            "10/10 [==============================] - 1s 102ms/step - loss: 0.0027 - mae: 0.0387\n",
            "Epoch 292/300\n",
            "10/10 [==============================] - 1s 122ms/step - loss: 0.0026 - mae: 0.0375\n",
            "Epoch 293/300\n",
            "10/10 [==============================] - 1s 133ms/step - loss: 0.0026 - mae: 0.0372\n",
            "Epoch 294/300\n",
            "10/10 [==============================] - 1s 116ms/step - loss: 0.0025 - mae: 0.0370\n",
            "Epoch 295/300\n",
            "10/10 [==============================] - 1s 91ms/step - loss: 0.0025 - mae: 0.0373\n",
            "Epoch 296/300\n",
            "10/10 [==============================] - 1s 89ms/step - loss: 0.0025 - mae: 0.0370\n",
            "Epoch 297/300\n",
            "10/10 [==============================] - 1s 97ms/step - loss: 0.0024 - mae: 0.0357\n",
            "Epoch 298/300\n",
            "10/10 [==============================] - 1s 94ms/step - loss: 0.0023 - mae: 0.0352\n",
            "Epoch 299/300\n",
            "10/10 [==============================] - 1s 92ms/step - loss: 0.0022 - mae: 0.0340\n",
            "Epoch 300/300\n",
            "10/10 [==============================] - 1s 96ms/step - loss: 0.0022 - mae: 0.0337\n"
          ]
        },
        {
          "output_type": "execute_result",
          "data": {
            "text/plain": [
              "<keras.callbacks.History at 0x7efb6f722860>"
            ]
          },
          "metadata": {},
          "execution_count": 19
        }
      ],
      "source": [
        "model.fit(X_train, y_train_n, epochs=300)\n"
      ]
    },
    {
      "cell_type": "markdown",
      "metadata": {
        "id": "_y_TeRgPHDoA"
      },
      "source": [
        "## 3.5. Сделайте предсказания на тестовых данных"
      ]
    },
    {
      "cell_type": "code",
      "execution_count": null,
      "metadata": {
        "colab": {
          "base_uri": "https://localhost:8080/"
        },
        "id": "BLfYCxjcNOSw",
        "outputId": "e69f6787-c84f-42ba-d07b-fbfa86f9df9a"
      },
      "outputs": [
        {
          "output_type": "stream",
          "name": "stdout",
          "text": [
            "3/3 [==============================] - 0s 21ms/step\n"
          ]
        }
      ],
      "source": [
        "preds = model.predict(X_test)"
      ]
    },
    {
      "cell_type": "code",
      "source": [
        "X_test[1]"
      ],
      "metadata": {
        "colab": {
          "base_uri": "https://localhost:8080/"
        },
        "id": "sRQodysOkIR3",
        "outputId": "a3e727c9-67cf-47c5-abdd-215a6667cb6a"
      },
      "execution_count": null,
      "outputs": [
        {
          "output_type": "execute_result",
          "data": {
            "text/plain": [
              "array([[0.3305785 , 0.30578512, 0.3305785 , ..., 0.3966942 , 0.37190083,\n",
              "        0.28512397],\n",
              "       [0.32231405, 0.32231405, 0.29752067, ..., 0.41322315, 0.338843  ,\n",
              "        0.2603306 ],\n",
              "       [0.3264463 , 0.30991736, 0.30578512, ..., 0.40495867, 0.36363637,\n",
              "        0.27272728],\n",
              "       ...,\n",
              "       [0.59090906, 0.61157024, 0.6404959 , ..., 0.6363636 , 0.61157024,\n",
              "        0.57438016],\n",
              "       [0.59090906, 0.61157024, 0.6487603 , ..., 0.6404959 , 0.607438  ,\n",
              "        0.5785124 ],\n",
              "       [0.58677685, 0.60330576, 0.661157  , ..., 0.6363636 , 0.59917355,\n",
              "        0.57438016]], dtype=float32)"
            ]
          },
          "metadata": {},
          "execution_count": 21
        }
      ]
    },
    {
      "cell_type": "code",
      "execution_count": null,
      "metadata": {
        "colab": {
          "base_uri": "https://localhost:8080/"
        },
        "id": "S9AVtUiYN38w",
        "outputId": "831c296e-aa77-4923-9a89-3c4839e189d6"
      },
      "outputs": [
        {
          "output_type": "execute_result",
          "data": {
            "text/plain": [
              "(80, 2048)"
            ]
          },
          "metadata": {},
          "execution_count": 22
        }
      ],
      "source": [
        "preds.shape"
      ]
    },
    {
      "cell_type": "markdown",
      "source": [
        "### 3.6. Посчитайте метрику качества на тестовых данных"
      ],
      "metadata": {
        "id": "RUgzV344HDoB"
      }
    },
    {
      "cell_type": "code",
      "source": [
        "# Ваш код здесь\n",
        "\n",
        "from sklearn.metrics import mean_absolute_error\n",
        "\n",
        "mean_absolute_error(preds, y_test_n)"
      ],
      "metadata": {
        "colab": {
          "base_uri": "https://localhost:8080/"
        },
        "outputId": "28aaaf45-8ccf-419c-c304-d1702a6fdd80",
        "id": "ZcUmYJetHDoB"
      },
      "execution_count": null,
      "outputs": [
        {
          "output_type": "execute_result",
          "data": {
            "text/plain": [
              "0.06992738"
            ]
          },
          "metadata": {},
          "execution_count": 23
        }
      ]
    },
    {
      "cell_type": "markdown",
      "metadata": {
        "id": "gHWdJ-WmNYZB"
      },
      "source": [
        "## 3.7. Преобразуйте предсказанные векторы в двумерное изображение (поменяйте их размерность)"
      ]
    },
    {
      "cell_type": "code",
      "source": [
        "pred_test = preds.reshape(preds.shape[0], 32, 64)\n",
        "pred_test.shape"
      ],
      "metadata": {
        "colab": {
          "base_uri": "https://localhost:8080/"
        },
        "id": "Pn495KbxRWfb",
        "outputId": "4d13c05e-a9e3-46e5-8399-df838326f45b"
      },
      "execution_count": null,
      "outputs": [
        {
          "output_type": "execute_result",
          "data": {
            "text/plain": [
              "(80, 32, 64)"
            ]
          },
          "metadata": {},
          "execution_count": 24
        }
      ]
    },
    {
      "cell_type": "markdown",
      "metadata": {
        "id": "LzmfZBw1GAQ9"
      },
      "source": [
        "Отрисуйте все предсказания."
      ]
    },
    {
      "cell_type": "code",
      "source": [
        "n_faces = 5\n",
        "n_cols = 2\n",
        "image_shape = (64, 64)\n",
        "plt.figure(figsize=(3 * n_cols, 3 * n_faces))\n",
        "\n",
        "\n",
        "for i in range(5):\n",
        "    true_face = np.vstack((X_test[i], y_test[i]))\n",
        "\n",
        "    if i:\n",
        "        sub = plt.subplot(n_faces, n_cols, i * n_cols + 1)\n",
        "    else:\n",
        "        sub = plt.subplot(n_faces, n_cols, i * n_cols + 1, title=\"true faces\")\n",
        "\n",
        "    sub.axis(\"off\")\n",
        "    sub.imshow(\n",
        "        true_face.reshape(image_shape), cmap=plt.cm.gray, interpolation=\"nearest\"\n",
        "    )\n",
        "\n",
        "    completed_face = np.vstack((X_test[i], pred_test[i]))\n",
        "\n",
        "    if i:\n",
        "        sub = plt.subplot(n_faces, n_cols, i * n_cols + 2)\n",
        "\n",
        "    else:\n",
        "        sub = plt.subplot(n_faces, n_cols, i * n_cols + 2)\n",
        "\n",
        "    sub.axis(\"off\")\n",
        "    sub.imshow(\n",
        "        completed_face.reshape(image_shape),\n",
        "        cmap=plt.cm.gray,\n",
        "        interpolation=\"nearest\",\n",
        "    )"
      ],
      "metadata": {
        "colab": {
          "base_uri": "https://localhost:8080/"
        },
        "id": "aIna_q3gCWo-",
        "outputId": "e79bff59-bd69-46c9-a969-88ab5b0c2861"
      },
      "execution_count": null,
      "outputs": [
        {
          "output_type": "display_data",
          "data": {
            "text/plain": [
              "<Figure size 600x1500 with 10 Axes>"
            ],
            "image/png": "[encoded data removed]"
          },
          "metadata": {}
        }
      ]
    }
  ],
  "metadata": {
    "colab": {
      "provenance": [],
      "collapsed_sections": [
        "uib7kyuQb2U8",
        "wbtLqCSwcjsw",
        "AH8jfd2Qch5m",
        "CZtG44sUcaxg",
        "a9vl8RxOcW9U",
        "eGeY80iWhlSD",
        "1eRq9ZaccEEz",
        "FiYiEH3N1qH4"
      ],
      "mount_file_id": "1RJPa-PiN9YnbnFF1pXg0G7oquTzD0ekK",
      "authorship_tag": "ABX9TyN5pWpIZ+6cuvKGGP2U4T3q",
      "include_colab_link": true
    },
    "kernelspec": {
      "display_name": "Python 3",
      "name": "python3"
    },
    "language_info": {
      "name": "python"
    }
  },
  "nbformat": 4,
  "nbformat_minor": 0
}