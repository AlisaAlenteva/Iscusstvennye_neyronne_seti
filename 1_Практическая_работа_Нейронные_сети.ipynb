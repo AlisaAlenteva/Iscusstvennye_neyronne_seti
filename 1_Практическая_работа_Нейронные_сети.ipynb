{
  "nbformat": 4,
  "nbformat_minor": 0,
  "metadata": {
    "colab": {
      "provenance": [],
      "collapsed_sections": [
        "4vsl59fQValk",
        "_Am8dcKmVxrq",
        "K9xVhsU0OU0j",
        "fSaXt74YO1IO",
        "27m5WeuwPbG2",
        "9-5Qq9V6RzuG",
        "j03CrpirXItQ",
        "7qHnCZnQgiWU",
        "E9Y2CUhLiCaz",
        "bGO9cnH_NNxa"
      ],
      "authorship_tag": "ABX9TyMhqO28g6GzQhTPMUft5URR",
      "include_colab_link": true
    },
    "kernelspec": {
      "name": "python3",
      "display_name": "Python 3"
    },
    "language_info": {
      "name": "python"
    }
  },
  "cells": [
    {
      "cell_type": "markdown",
      "metadata": {
        "id": "view-in-github",
        "colab_type": "text"
      },
      "source": [
        "<a href=\"https://colab.research.google.com/github/AlisaAlenteva/Iscusstvennye_neyronne_seti/blob/main/1_%D0%9F%D1%80%D0%B0%D0%BA%D1%82%D0%B8%D1%87%D0%B5%D1%81%D0%BA%D0%B0%D1%8F_%D1%80%D0%B0%D0%B1%D0%BE%D1%82%D0%B0_%D0%9D%D0%B5%D0%B9%D1%80%D0%BE%D0%BD%D0%BD%D1%8B%D0%B5_%D1%81%D0%B5%D1%82%D0%B8.ipynb\" target=\"_parent\"><img src=\"https://colab.research.google.com/assets/colab-badge.svg\" alt=\"Open In Colab\"/></a>"
      ]
    },
    {
      "cell_type": "markdown",
      "source": [
        "# ЗАДАНИЕ 1\n"
      ],
      "metadata": {
        "id": "4vsl59fQValk"
      }
    },
    {
      "cell_type": "code",
      "execution_count": 1,
      "metadata": {
        "id": "TQXz-22kVXw6"
      },
      "outputs": [],
      "source": [
        "from random import randint\n",
        "\n",
        "w1 = [randint(0, 100)/100]\n",
        "w2 = [randint(0, 100)/100]"
      ]
    },
    {
      "cell_type": "code",
      "source": [
        "w1"
      ],
      "metadata": {
        "colab": {
          "base_uri": "https://localhost:8080/"
        },
        "id": "WGsBwa11VoNp",
        "outputId": "1747e041-c039-4327-f358-3a7fabbebf87"
      },
      "execution_count": 2,
      "outputs": [
        {
          "output_type": "execute_result",
          "data": {
            "text/plain": [
              "[0.4]"
            ]
          },
          "metadata": {},
          "execution_count": 2
        }
      ]
    },
    {
      "cell_type": "code",
      "source": [
        "w2"
      ],
      "metadata": {
        "colab": {
          "base_uri": "https://localhost:8080/"
        },
        "id": "QWZFJEUmVv2b",
        "outputId": "b2bdc4a2-b5b5-41e5-a566-1e12aa3a78af"
      },
      "execution_count": 3,
      "outputs": [
        {
          "output_type": "execute_result",
          "data": {
            "text/plain": [
              "[0.42]"
            ]
          },
          "metadata": {},
          "execution_count": 3
        }
      ]
    },
    {
      "cell_type": "markdown",
      "source": [
        "# ЗАДАНИЕ 2"
      ],
      "metadata": {
        "id": "_Am8dcKmVxrq"
      }
    },
    {
      "cell_type": "code",
      "source": [
        "speed = 0.3\n",
        "w = [randint(0,100)/100, randint(0,100)/100]\n",
        "x_train = [[1, 1], [1, 0], [0, 1], [0, 0]]\n",
        "y_train = [1, 1, 1, 0]"
      ],
      "metadata": {
        "id": "o3wZIu05VxcW"
      },
      "execution_count": 4,
      "outputs": []
    },
    {
      "cell_type": "code",
      "source": [
        "def predict(x_train):\n",
        "  summator = x_train[0] * w[0] + x_train[1] * w[1]\n",
        "  act = 1 if summator >= 1 else 0\n",
        "  return act\n",
        "  "
      ],
      "metadata": {
        "id": "sDMSZErsWvuB"
      },
      "execution_count": 5,
      "outputs": []
    },
    {
      "cell_type": "code",
      "source": [
        "def train(x_train, y_train, w):\n",
        "  for i in range(len(x_train)):\n",
        "    error = y_train[i] - predict([x_train[i][0], x_train[i][1]])\n",
        "    if error != 0:\n",
        "      w[0] = w[0] + error * x_train[i][0] * speed\n",
        "      w[1] = w[1] + error * x_train[i][1] * speed\n"
      ],
      "metadata": {
        "id": "u5fZwiZcX1SL"
      },
      "execution_count": 6,
      "outputs": []
    },
    {
      "cell_type": "code",
      "source": [
        "def epoch(count, func_train, x_train, y_train, w):\n",
        "  for i in range(count):\n",
        "    func_train(x_train, y_train, w)\n",
        "epoch(5, train, x_train, y_train, w)\n"
      ],
      "metadata": {
        "id": "qFCqy0J-WyQD"
      },
      "execution_count": 7,
      "outputs": []
    },
    {
      "cell_type": "code",
      "source": [
        "def pr(func):\n",
        "  x_train1 = [[1, 1], [1, 0], [0, 1], [0, 0]]\n",
        "  for i in range(len(x_train1)):\n",
        "    print(f'{x_train1[i]} = {func(x_train1[i])}')\n"
      ],
      "metadata": {
        "id": "rTzC9E7AW9wj"
      },
      "execution_count": 8,
      "outputs": []
    },
    {
      "cell_type": "code",
      "source": [
        "pr(predict)"
      ],
      "metadata": {
        "colab": {
          "base_uri": "https://localhost:8080/"
        },
        "id": "a1-AI5WCWzh2",
        "outputId": "ec32ca1f-d04e-40a0-ae82-cda62cdc40de"
      },
      "execution_count": 9,
      "outputs": [
        {
          "output_type": "stream",
          "name": "stdout",
          "text": [
            "[1, 1] = 1\n",
            "[1, 0] = 1\n",
            "[0, 1] = 1\n",
            "[0, 0] = 0\n"
          ]
        }
      ]
    },
    {
      "cell_type": "markdown",
      "source": [
        "# ЗАДАНИЕ 3"
      ],
      "metadata": {
        "id": "mTSp55NCNUG-"
      }
    },
    {
      "cell_type": "markdown",
      "source": [
        "# Конъюнкция"
      ],
      "metadata": {
        "id": "K9xVhsU0OU0j"
      }
    },
    {
      "cell_type": "code",
      "source": [
        "speed = 0.3\n",
        "w = [randint(0,100)/100, randint(0,100)/100]\n",
        "\n",
        "x_train = [[1, 1], [1, 0], [0, 1], [0, 0]]\n",
        "y_train_01 = [1, 0, 0, 0]"
      ],
      "metadata": {
        "id": "Kz_TpOrTAak_"
      },
      "execution_count": 10,
      "outputs": []
    },
    {
      "cell_type": "code",
      "source": [
        "def predict_01(x_train):\n",
        "  summator = x_train[0] * w[0] + x_train[1] * w[1]\n",
        "  act = 1 if summator >= 1 else 0\n",
        "  return act"
      ],
      "metadata": {
        "id": "HsFr4bxcOYCU"
      },
      "execution_count": 11,
      "outputs": []
    },
    {
      "cell_type": "code",
      "source": [
        "def train_01(x_train, y_train_01, w):\n",
        "  for i in range(len(x_train)):\n",
        "    error = y_train_01[i] - predict_01([x_train[i][0], x_train[i][1]])\n",
        "    if error != 0:\n",
        "      w[0] = w[0] + error * x_train[i][0] * speed\n",
        "      print(w)\n",
        "      w[1] = w[1] + error * x_train[i][1] * speed\n",
        "      print(w)"
      ],
      "metadata": {
        "id": "7d0vGDptOdIO"
      },
      "execution_count": 12,
      "outputs": []
    },
    {
      "cell_type": "code",
      "source": [
        "def epoch_01(count, func_train, x_train, y_train_01, w):\n",
        "  for i in range(count):\n",
        "    func_train(x_train, y_train_01, w)\n",
        "epoch_01(5, train_01, x_train, y_train_01, w)"
      ],
      "metadata": {
        "id": "9JzWehMZOmY4"
      },
      "execution_count": 13,
      "outputs": []
    },
    {
      "cell_type": "code",
      "source": [
        "print(predict_01([1,1]))\n",
        "print(predict_01([1,0]))\n",
        "print(predict_01([0,1]))\n",
        "print(predict_01([0,0]))"
      ],
      "metadata": {
        "colab": {
          "base_uri": "https://localhost:8080/"
        },
        "id": "UyHxhyQ4OphX",
        "outputId": "a5bda313-c656-44d7-d847-ad2f2f8f1f6e"
      },
      "execution_count": 14,
      "outputs": [
        {
          "output_type": "stream",
          "name": "stdout",
          "text": [
            "1\n",
            "0\n",
            "0\n",
            "0\n"
          ]
        }
      ]
    },
    {
      "cell_type": "markdown",
      "source": [
        "# Дизъюнкция"
      ],
      "metadata": {
        "id": "fSaXt74YO1IO"
      }
    },
    {
      "cell_type": "code",
      "source": [
        "speed = 0.3\n",
        "w = [randint(0,100)/100, randint(0,100)/100]\n",
        "\n",
        "x_train = [[1, 1], [1, 0], [0, 1], [0, 0]]\n",
        "y_train_02 = [1, 1, 1, 0]"
      ],
      "metadata": {
        "id": "LC7wDrfiO38Y"
      },
      "execution_count": 15,
      "outputs": []
    },
    {
      "cell_type": "code",
      "source": [
        "def predict_02(x_train):\n",
        "  summator = x_train[0] * w[0] + x_train[1] * w[1]\n",
        "  act = 1 if summator >= 1 else 0\n",
        "  return act"
      ],
      "metadata": {
        "id": "d-BzRx83PA7Z"
      },
      "execution_count": 16,
      "outputs": []
    },
    {
      "cell_type": "code",
      "source": [
        "def train_02(x_train, y_train_02, w):\n",
        "  for i in range(len(x_train)):\n",
        "    error = y_train_02[i] - predict_02([x_train[i][0], x_train[i][1]])\n",
        "    if error != 0:\n",
        "      w[0] = w[0] + error * x_train[i][0] * speed\n",
        "      print(w)\n",
        "      w[1] = w[1] + error * x_train[i][1] * speed\n",
        "      print(w)"
      ],
      "metadata": {
        "id": "3eLAft12PCD3"
      },
      "execution_count": 17,
      "outputs": []
    },
    {
      "cell_type": "code",
      "source": [
        "def epoch_02(count, func_train, x_train, y_train_02, w):\n",
        "  for i in range(count):\n",
        "    func_train(x_train, y_train_02, w)\n",
        "epoch_02(5, train_02, x_train, y_train_02, w) "
      ],
      "metadata": {
        "id": "h5BgRip0PDUk",
        "colab": {
          "base_uri": "https://localhost:8080/"
        },
        "outputId": "7c6d40e8-b595-469a-9b07-c25e62d4b3f9"
      },
      "execution_count": 18,
      "outputs": [
        {
          "output_type": "stream",
          "name": "stdout",
          "text": [
            "[1.07, 0.72]\n",
            "[1.07, 0.72]\n",
            "[1.07, 0.72]\n",
            "[1.07, 1.02]\n"
          ]
        }
      ]
    },
    {
      "cell_type": "code",
      "source": [
        "print(predict_02([1,1]))\n",
        "print(predict_02([1,0]))\n",
        "print(predict_02([0,1]))\n",
        "print(predict_02([0,0]))"
      ],
      "metadata": {
        "colab": {
          "base_uri": "https://localhost:8080/"
        },
        "id": "_SjweyjdPEd_",
        "outputId": "157df642-0879-49a5-f2bd-02e8666625cb"
      },
      "execution_count": 19,
      "outputs": [
        {
          "output_type": "stream",
          "name": "stdout",
          "text": [
            "1\n",
            "1\n",
            "1\n",
            "0\n"
          ]
        }
      ]
    },
    {
      "cell_type": "markdown",
      "source": [
        "# XOR \n"
      ],
      "metadata": {
        "id": "27m5WeuwPbG2"
      }
    },
    {
      "cell_type": "markdown",
      "source": [
        "не будет работать правильно"
      ],
      "metadata": {
        "id": "6adUa6UvLqjY"
      }
    },
    {
      "cell_type": "code",
      "source": [
        "from random import randint\n",
        "speed = 0.3\n",
        "w = [randint(0,100)/100, randint(0,100)/100]\n",
        "\n",
        "x_train_001 = [[1, 1], [1, 0], [0, 1], [0, 0]]\n",
        "y_train_03 = [0, 1, 1, 0]"
      ],
      "metadata": {
        "id": "g1UW0i4RPpDk"
      },
      "execution_count": 20,
      "outputs": []
    },
    {
      "cell_type": "code",
      "source": [
        "def predict_03(x_train_001):\n",
        "  summator = x_train_001[0] * w[0] + x_train_001[1] * w[1]\n",
        "  act = abs(summator)\n",
        "  act = 1 if act >= 1 else 0\n",
        "  return act"
      ],
      "metadata": {
        "id": "dJFAA7csPlwW"
      },
      "execution_count": 21,
      "outputs": []
    },
    {
      "cell_type": "code",
      "source": [
        "def train_03(x_train_001, y_train_03, w):\n",
        "  for i in range(len(x_train)):\n",
        "    error = y_train_03[i] - predict_03([x_train_001[i][0], x_train_001[i][1]])\n",
        "    if error != 0:\n",
        "      w[0] = w[0] + error * x_train_001[i][0] * speed\n",
        "      print(w)\n",
        "      w[1] = w[1] + error * x_train_001[i][1] * speed\n",
        "      print(w)\n"
      ],
      "metadata": {
        "id": "G8i5kJiWgIhg"
      },
      "execution_count": 22,
      "outputs": []
    },
    {
      "cell_type": "code",
      "source": [
        "def epoch_03(count, func_train, x_train_001, y_train_03, w):\n",
        "  for i in range(count):\n",
        "    func_train(x_train_001, y_train_03, w)\n",
        "epoch_03(5, train_03, x_train_001, y_train_03, w)"
      ],
      "metadata": {
        "id": "VFYiOJDSPp0n",
        "colab": {
          "base_uri": "https://localhost:8080/"
        },
        "outputId": "b2a972eb-6915-493f-cfe2-e67e5b79fd5b"
      },
      "execution_count": 23,
      "outputs": [
        {
          "output_type": "stream",
          "name": "stdout",
          "text": [
            "[0.78, 0.19]\n",
            "[0.78, 0.19]\n",
            "[0.78, 0.19]\n",
            "[0.78, 0.49]\n",
            "[0.48000000000000004, 0.49]\n",
            "[0.48000000000000004, 0.19]\n",
            "[0.78, 0.19]\n",
            "[0.78, 0.19]\n",
            "[0.78, 0.19]\n",
            "[0.78, 0.49]\n",
            "[0.48000000000000004, 0.49]\n",
            "[0.48000000000000004, 0.19]\n",
            "[0.78, 0.19]\n",
            "[0.78, 0.19]\n",
            "[0.78, 0.19]\n",
            "[0.78, 0.49]\n",
            "[0.48000000000000004, 0.49]\n",
            "[0.48000000000000004, 0.19]\n",
            "[0.78, 0.19]\n",
            "[0.78, 0.19]\n",
            "[0.78, 0.19]\n",
            "[0.78, 0.49]\n",
            "[0.48000000000000004, 0.49]\n",
            "[0.48000000000000004, 0.19]\n",
            "[0.78, 0.19]\n",
            "[0.78, 0.19]\n",
            "[0.78, 0.19]\n",
            "[0.78, 0.49]\n"
          ]
        }
      ]
    },
    {
      "cell_type": "code",
      "source": [
        "print(predict_03([1,1]))\n",
        "print(predict_03([1,0]))\n",
        "print(predict_03([0,1]))\n",
        "print(predict_03([0,0]))"
      ],
      "metadata": {
        "colab": {
          "base_uri": "https://localhost:8080/"
        },
        "id": "wV6nJeEJPr0x",
        "outputId": "0a76e37a-4d14-4578-c692-cb5b177ca63c"
      },
      "execution_count": 24,
      "outputs": [
        {
          "output_type": "stream",
          "name": "stdout",
          "text": [
            "1\n",
            "0\n",
            "0\n",
            "0\n"
          ]
        }
      ]
    },
    {
      "cell_type": "code",
      "source": [],
      "metadata": {
        "id": "kjS5ra9pLnQE"
      },
      "execution_count": 24,
      "outputs": []
    },
    {
      "cell_type": "markdown",
      "source": [
        "# Конъюнкция отрицания x1 и x2"
      ],
      "metadata": {
        "id": "9-5Qq9V6RzuG"
      }
    },
    {
      "cell_type": "code",
      "source": [
        "from random import randint\n",
        "speed = 0.3\n",
        "w = [randint(0,100)/100, randint(0,100)/100]\n",
        "\n",
        "x_train= [[0, 1], [0, 0], [1, 1], [1, 0]]\n",
        "y_train_04 = [0, 0, 1, 0]"
      ],
      "metadata": {
        "id": "gje90g3KRzbs"
      },
      "execution_count": 25,
      "outputs": []
    },
    {
      "cell_type": "code",
      "source": [
        "def predict_04(x_train):\n",
        "  summator = x_train[0] * w[0] + x_train[1] * w[1]\n",
        "  act = 1 if summator >= 1 else 0\n",
        "  return act"
      ],
      "metadata": {
        "id": "uyYQqzbnTZ4Y"
      },
      "execution_count": 26,
      "outputs": []
    },
    {
      "cell_type": "code",
      "source": [
        "def train_04(x_train, y_train_04, w):\n",
        "  for i in range(len(x_train)):\n",
        "    error_04 = y_train_04[i] - predict_04([x_train[i][0], x_train[i][1]])\n",
        "    if error_04 != 0:\n",
        "      w[0] = w[0] + error_04 * x_train[i][0] * speed\n",
        "      print(w)\n",
        "      w[1] = w[1] + error_04 * x_train[i][1] * speed\n",
        "      print(w)"
      ],
      "metadata": {
        "id": "gYO3ouRKTd6t"
      },
      "execution_count": 27,
      "outputs": []
    },
    {
      "cell_type": "code",
      "source": [
        "def epoch_04(count, func_train, x_train, y_train_04, w):\n",
        "  for i in range(count):\n",
        "    func_train(x_train, y_train_04, w)\n",
        "epoch_04(5, train_04, x_train, y_train_04, w)"
      ],
      "metadata": {
        "id": "0DvmENQGTeFW",
        "colab": {
          "base_uri": "https://localhost:8080/"
        },
        "outputId": "f1eda853-def2-40ba-80a5-e1f7728a5638"
      },
      "execution_count": 28,
      "outputs": [
        {
          "output_type": "stream",
          "name": "stdout",
          "text": [
            "[0.57, 1.0]\n",
            "[0.57, 0.7]\n"
          ]
        }
      ]
    },
    {
      "cell_type": "code",
      "source": [
        "print(predict_04([0, 1]))\n",
        "print(predict_04([0, 0]))\n",
        "print(predict_04([1, 1]))\n",
        "print(predict_04([1, 0]))"
      ],
      "metadata": {
        "colab": {
          "base_uri": "https://localhost:8080/"
        },
        "id": "d2kO_qXVT95j",
        "outputId": "ec46677c-7789-4078-f897-7bd4d54d8ee9"
      },
      "execution_count": 29,
      "outputs": [
        {
          "output_type": "stream",
          "name": "stdout",
          "text": [
            "0\n",
            "0\n",
            "1\n",
            "0\n"
          ]
        }
      ]
    },
    {
      "cell_type": "markdown",
      "source": [
        "# Конъюнкция x1 и отрицания x2"
      ],
      "metadata": {
        "id": "j03CrpirXItQ"
      }
    },
    {
      "cell_type": "code",
      "source": [
        "from random import randint\n",
        "speed = 0.3\n",
        "w = [randint(0,100)/100, randint(0,100)/100]\n",
        "\n",
        "x_train = [[1, 0], [1, 1], [0, 0], [0, 1]]\n",
        "y_train_05 = [0, 1, 0, 0]"
      ],
      "metadata": {
        "id": "CplwoigQXIbM"
      },
      "execution_count": 30,
      "outputs": []
    },
    {
      "cell_type": "code",
      "source": [
        "def predict_05(x_train):\n",
        "  summator = x_train[0] * w[0] + x_train[1] * w[1]\n",
        "  act = 1 if summator >= 1 else 0\n",
        "  return act"
      ],
      "metadata": {
        "id": "MHWNsPWIYd1K"
      },
      "execution_count": 31,
      "outputs": []
    },
    {
      "cell_type": "code",
      "source": [
        "def train_05(x_train, y_train_05, w):\n",
        "  for i in range(len(x_train)):\n",
        "    error_05 = y_train_05[i] - predict_05([x_train[i][0], x_train[i][1]])\n",
        "    if error_05 != 0:\n",
        "      w[0] = w[0] + error_05 * x_train[i][0] * speed\n",
        "      print(w)\n",
        "      w[1] = w[1] + error_05 * x_train[i][1] * speed\n",
        "      print(w)"
      ],
      "metadata": {
        "id": "WmAq7i4iYhca"
      },
      "execution_count": 32,
      "outputs": []
    },
    {
      "cell_type": "code",
      "source": [
        "def epoch_05(count, func_train, x_train, y_train_05, w):\n",
        "  for i in range(count):\n",
        "    func_train(x_train, y_train_05, w)\n",
        "epoch_05(5, train_05, x_train, y_train_05, w)"
      ],
      "metadata": {
        "id": "9Xx_TmV9YjTL",
        "colab": {
          "base_uri": "https://localhost:8080/"
        },
        "outputId": "9e92fa11-ca57-49bb-d80a-a2f842e00bf2"
      },
      "execution_count": 33,
      "outputs": [
        {
          "output_type": "stream",
          "name": "stdout",
          "text": [
            "[0.6799999999999999, 0.32]\n",
            "[0.6799999999999999, 0.62]\n"
          ]
        }
      ]
    },
    {
      "cell_type": "code",
      "source": [
        "print(predict_05([1, 0]))\n",
        "print(predict_05([1, 1]))\n",
        "print(predict_05([0, 0]))\n",
        "print(predict_05([0, 1]))"
      ],
      "metadata": {
        "colab": {
          "base_uri": "https://localhost:8080/"
        },
        "id": "vWAwffuEYsgY",
        "outputId": "81da1cae-63b5-4d2c-dd13-589f94ccd372"
      },
      "execution_count": 34,
      "outputs": [
        {
          "output_type": "stream",
          "name": "stdout",
          "text": [
            "0\n",
            "1\n",
            "0\n",
            "0\n"
          ]
        }
      ]
    },
    {
      "cell_type": "markdown",
      "source": [
        "# ЗАДАНИЕ 4"
      ],
      "metadata": {
        "id": "7qHnCZnQgiWU"
      }
    },
    {
      "cell_type": "code",
      "source": [
        "speed = 0.3\n",
        "w = [randint(0,100)/100, randint(0,100)/100]\n",
        "\n",
        "x_train_06 = [[1, 1], [1, -1], [-1, 1], [-1, -1]]\n",
        "y_train_06 = [1, -1, -1, -1]"
      ],
      "metadata": {
        "id": "eXzM8AlHg1CE"
      },
      "execution_count": 35,
      "outputs": []
    },
    {
      "cell_type": "code",
      "source": [
        "def predict_06(x_train_06):\n",
        "  summator = x_train_06[0] * w[0] + x_train_06[1] * w[1]\n",
        "  act = 1 if summator > 0 else -1\n",
        "  return act"
      ],
      "metadata": {
        "id": "ETtAZueRg7D1"
      },
      "execution_count": 36,
      "outputs": []
    },
    {
      "cell_type": "code",
      "source": [
        "def train_06(x_train_06, y_train_06, w):\n",
        "  for i in range(len(x_train_06)):\n",
        "    error = y_train_06[i] - predict_06([x_train_06[i][0], x_train_06[i][1]])\n",
        "    if error != 0:\n",
        "      w[0] = w[0] + error * x_train_06[i][0] * speed\n",
        "      print(w)\n",
        "      w[1] = w[1] + error * x_train_06[i][1] * speed\n",
        "      print(w)"
      ],
      "metadata": {
        "id": "yudNBwj2g-_h"
      },
      "execution_count": 37,
      "outputs": []
    },
    {
      "cell_type": "code",
      "source": [
        "def epoch_06(count, func_train, x_train_06, y_train_06, w):\n",
        "  for i in range(count):\n",
        "    func_train(x_train_06, y_train_06, w)\n",
        "epoch_06(5, train_06, x_train_06, y_train_06, w)"
      ],
      "metadata": {
        "id": "RLZNYS2hhF20",
        "colab": {
          "base_uri": "https://localhost:8080/"
        },
        "outputId": "8abbce5c-dc78-440a-ad3c-d8032437ae7c"
      },
      "execution_count": 38,
      "outputs": [
        {
          "output_type": "stream",
          "name": "stdout",
          "text": [
            "[0.30000000000000004, 0.04]\n",
            "[0.30000000000000004, 0.64]\n",
            "[0.9, 0.64]\n",
            "[0.9, 0.040000000000000036]\n",
            "[0.30000000000000004, 0.040000000000000036]\n",
            "[0.30000000000000004, 0.64]\n",
            "[0.9, 0.64]\n",
            "[0.9, 0.040000000000000036]\n",
            "[0.30000000000000004, 0.040000000000000036]\n",
            "[0.30000000000000004, 0.64]\n",
            "[0.9, 0.64]\n",
            "[0.9, 0.040000000000000036]\n",
            "[0.30000000000000004, 0.040000000000000036]\n",
            "[0.30000000000000004, 0.64]\n",
            "[0.9, 0.64]\n",
            "[0.9, 0.040000000000000036]\n",
            "[0.30000000000000004, 0.040000000000000036]\n",
            "[0.30000000000000004, 0.64]\n",
            "[0.9, 0.64]\n",
            "[0.9, 0.040000000000000036]\n"
          ]
        }
      ]
    },
    {
      "cell_type": "code",
      "source": [
        "print(predict_06([1,1]))\n",
        "print(predict_06([1,-1]))\n",
        "print(predict_06([-1,1]))\n",
        "print(predict_06([-1,-1]))"
      ],
      "metadata": {
        "colab": {
          "base_uri": "https://localhost:8080/"
        },
        "id": "eQ51-5cdhJKK",
        "outputId": "1b4cf5ca-ebe7-4541-a46b-baeaa80d5093"
      },
      "execution_count": 39,
      "outputs": [
        {
          "output_type": "stream",
          "name": "stdout",
          "text": [
            "1\n",
            "1\n",
            "-1\n",
            "-1\n"
          ]
        }
      ]
    },
    {
      "cell_type": "markdown",
      "source": [
        "# ЗАДАНИЕ 5"
      ],
      "metadata": {
        "id": "E9Y2CUhLiCaz"
      }
    },
    {
      "cell_type": "code",
      "source": [
        "speed = 0.3\n",
        "w = [randint(0,100)/100, randint(0,100)/100, randint(0,100)/100]\n",
        "\n",
        "x_train = [[1, 1], [1, -1], [-1, 1], [-1, -1]]\n",
        "y_train_07 = [1, -1, -1, -1]"
      ],
      "metadata": {
        "id": "vp3Mp4jhiFw0"
      },
      "execution_count": 40,
      "outputs": []
    },
    {
      "cell_type": "code",
      "source": [
        "def predict_07(x_train):\n",
        "  summator = x_train[0] * w[0] + x_train[1] * w[1] + w[2]\n",
        "  act = 1 if summator > 0 else -1\n",
        "  return act"
      ],
      "metadata": {
        "id": "9KJAMKadiTbe"
      },
      "execution_count": 41,
      "outputs": []
    },
    {
      "cell_type": "code",
      "source": [
        "def train_07(x_train, y_train_07, w):\n",
        "  for i in range(len(x_train)):\n",
        "    error = y_train_07[i] - predict_07([x_train[i][0], x_train[i][1]])\n",
        "    if error != 0:\n",
        "      w[0] = w[0] + error * x_train[i][0] * speed\n",
        "      print(w)\n",
        "      w[1] = w[1] + error * x_train[i][1] * speed\n",
        "      print(w)\n",
        "      w[2] = w[2] + error * speed\n",
        "      print(w)"
      ],
      "metadata": {
        "id": "Zd2Nqd6hiVDZ"
      },
      "execution_count": 42,
      "outputs": []
    },
    {
      "cell_type": "code",
      "source": [
        "def epoch_07(count, func_train, x_train, y_train_07, w):\n",
        "  for i in range(count):\n",
        "    func_train(x_train, y_train_07, w)\n",
        "epoch_07(5, train_07, x_train, y_train_07, w)"
      ],
      "metadata": {
        "id": "pyYej2KNiWnE",
        "colab": {
          "base_uri": "https://localhost:8080/"
        },
        "outputId": "467eb692-91c2-461b-b7e8-453c9a55c874"
      },
      "execution_count": 43,
      "outputs": [
        {
          "output_type": "stream",
          "name": "stdout",
          "text": [
            "[-0.53, 0.29, 0.28]\n",
            "[-0.53, 0.8899999999999999, 0.28]\n",
            "[-0.53, 0.8899999999999999, -0.31999999999999995]\n",
            "[0.06999999999999995, 0.8899999999999999, -0.31999999999999995]\n",
            "[0.06999999999999995, 0.2899999999999999, -0.31999999999999995]\n",
            "[0.06999999999999995, 0.2899999999999999, -0.9199999999999999]\n",
            "[0.6699999999999999, 0.2899999999999999, -0.9199999999999999]\n",
            "[0.6699999999999999, 0.8899999999999999, -0.9199999999999999]\n",
            "[0.6699999999999999, 0.8899999999999999, -0.31999999999999995]\n"
          ]
        }
      ]
    },
    {
      "cell_type": "code",
      "source": [
        "print(predict_07([1,1]))\n",
        "print(predict_07([1,-1]))\n",
        "print(predict_07([-1,1]))\n",
        "print(predict_07([-1,-1]))"
      ],
      "metadata": {
        "colab": {
          "base_uri": "https://localhost:8080/"
        },
        "id": "H5JSNlPpiYB5",
        "outputId": "0bff6a0e-a17a-454e-d5a1-8b46422564d1"
      },
      "execution_count": 44,
      "outputs": [
        {
          "output_type": "stream",
          "name": "stdout",
          "text": [
            "1\n",
            "-1\n",
            "-1\n",
            "-1\n"
          ]
        }
      ]
    },
    {
      "cell_type": "markdown",
      "source": [
        "# ЗАДАНИЕ 6"
      ],
      "metadata": {
        "id": "bGO9cnH_NNxa"
      }
    },
    {
      "cell_type": "code",
      "source": [
        "from random import randint\n",
        "\n",
        "speed = 0.3\n",
        "\n",
        "w = [randint(0, 100)/100, randint(0, 100)/100, randint(0, 100)/100, randint(0, 100)/100, randint(0, 100)/100, randint(0, 100)/100]\n",
        "\n",
        "x_train = [[1,1], [1,0], [0,1], [0,0]]\n",
        "\n",
        "y_train_1 = [0, 0, 1, 0]\n",
        "y_train_2 = [0, 1, 0, 0]\n",
        "y_train_3 = [1, 1, 1, 0]"
      ],
      "metadata": {
        "id": "GsM_VkvqNQzB"
      },
      "execution_count": 45,
      "outputs": []
    },
    {
      "cell_type": "code",
      "source": [
        "w"
      ],
      "metadata": {
        "colab": {
          "base_uri": "https://localhost:8080/"
        },
        "id": "4Xe8fKKONUOh",
        "outputId": "d3028585-c70e-4958-d9eb-d78cb4159f0d"
      },
      "execution_count": 46,
      "outputs": [
        {
          "output_type": "execute_result",
          "data": {
            "text/plain": [
              "[0.29, 0.39, 1.0, 0.4, 0.21, 0.56]"
            ]
          },
          "metadata": {},
          "execution_count": 46
        }
      ]
    },
    {
      "cell_type": "code",
      "source": [
        "def predict_6_1(x_train):\n",
        "  summator = x_train[0] * w[0] + x_train[1] * w[1]\n",
        "  act = 1 if summator >= 1 else 0\n",
        "  return act"
      ],
      "metadata": {
        "id": "geW8J6PVNWrv"
      },
      "execution_count": 47,
      "outputs": []
    },
    {
      "cell_type": "code",
      "source": [
        "def predict_6_2(x_train):\n",
        "  summator = x_train[0] * w[2] + x_train[1] * w[3]\n",
        "  act = 1 if summator >= 1 else 0\n",
        "  return act"
      ],
      "metadata": {
        "id": "vRy_yL5ENYPn"
      },
      "execution_count": 48,
      "outputs": []
    },
    {
      "cell_type": "code",
      "source": [
        "def predict_6_3(x_train):\n",
        "  summator = x_train[0] * w[4] + x_train[1] * w[5]\n",
        "  act = 1 if summator >= 1 else 0\n",
        "  return act"
      ],
      "metadata": {
        "id": "SiFa9z_rNa_y"
      },
      "execution_count": 49,
      "outputs": []
    },
    {
      "cell_type": "code",
      "source": [
        "def train(x_train, y_train_1, y_train_2, y_train_3, w):\n",
        "  for i in range(len(x_train)):\n",
        "    error_1 = y_train_1[i] - predict_6_1(x_train[i])\n",
        "    if error_1 !=0:\n",
        "      w[0] = w[0] + error_1 * x_train[i][0] * speed\n",
        "      w[1] = w[1] + error_1 * x_train[i][1] * speed\n",
        "      print(error_1, w)\n",
        "\n",
        "    error_2 = y_train_2[i] - predict_6_2(x_train[i])\n",
        "    if error_2 !=0:\n",
        "      w[2] = w[2] + error_2 * x_train[i][0] * speed\n",
        "      w[3] = w[3] + error_2 * x_train[i][1] * speed\n",
        "      print(error_2, w)\n",
        "\n",
        "    error_3 = y_train_3[i] - predict_6_3(x_train[i])\n",
        "    if error_3 !=0:\n",
        "      w[4] = w[4] + error_3 * x_train[i][0] * speed\n",
        "      w[5] = w[5] + error_3 * x_train[i][1] * speed\n",
        "      print(error_3, w)\n",
        "\n",
        "      "
      ],
      "metadata": {
        "id": "7xQQ7DfONbiN"
      },
      "execution_count": 50,
      "outputs": []
    },
    {
      "cell_type": "code",
      "source": [
        "def progon(count, func_train, x_train, y_train_1, y_train_2, y_train_3, w):\n",
        "  for i in range(count):\n",
        "    func_train(x_train, y_train_1, y_train_2, y_train_3, w)\n"
      ],
      "metadata": {
        "id": "5tGTLLFPNd0Z"
      },
      "execution_count": 51,
      "outputs": []
    },
    {
      "cell_type": "code",
      "source": [
        "def predict_6_4(x_train):\n",
        "  return predict_6_3([predict_6_1(x_train), predict_6_2(x_train)])"
      ],
      "metadata": {
        "id": "4nyu4WhGNgXW"
      },
      "execution_count": 52,
      "outputs": []
    },
    {
      "cell_type": "code",
      "source": [
        "progon(10, train, x_train, y_train_1, y_train_2, y_train_3, w)"
      ],
      "metadata": {
        "colab": {
          "base_uri": "https://localhost:8080/"
        },
        "id": "V5eTEKuZNied",
        "outputId": "13985398-ecd0-4185-c9c8-3d125f95f3bb"
      },
      "execution_count": 53,
      "outputs": [
        {
          "output_type": "stream",
          "name": "stdout",
          "text": [
            "-1 [0.29, 0.39, 0.7, 0.10000000000000003, 0.21, 0.56]\n",
            "1 [0.29, 0.39, 0.7, 0.10000000000000003, 0.51, 0.8600000000000001]\n",
            "1 [0.29, 0.39, 1.0, 0.10000000000000003, 0.51, 0.8600000000000001]\n",
            "1 [0.29, 0.39, 1.0, 0.10000000000000003, 0.81, 0.8600000000000001]\n",
            "1 [0.29, 0.69, 1.0, 0.10000000000000003, 0.81, 0.8600000000000001]\n",
            "1 [0.29, 0.69, 1.0, 0.10000000000000003, 0.81, 1.1600000000000001]\n",
            "-1 [0.29, 0.69, 0.7, -0.19999999999999996, 0.81, 1.1600000000000001]\n",
            "1 [0.29, 0.69, 1.0, -0.19999999999999996, 0.81, 1.1600000000000001]\n",
            "1 [0.29, 0.69, 1.0, -0.19999999999999996, 1.11, 1.1600000000000001]\n",
            "1 [0.29, 0.99, 1.0, -0.19999999999999996, 1.11, 1.1600000000000001]\n",
            "-1 [-0.010000000000000009, 0.69, 1.0, -0.19999999999999996, 1.11, 1.1600000000000001]\n",
            "1 [-0.010000000000000009, 0.99, 1.0, -0.19999999999999996, 1.11, 1.1600000000000001]\n",
            "1 [-0.010000000000000009, 1.29, 1.0, -0.19999999999999996, 1.11, 1.1600000000000001]\n",
            "-1 [-0.31, 0.99, 1.0, -0.19999999999999996, 1.11, 1.1600000000000001]\n",
            "1 [-0.31, 1.29, 1.0, -0.19999999999999996, 1.11, 1.1600000000000001]\n"
          ]
        }
      ]
    },
    {
      "cell_type": "code",
      "source": [
        "print(predict_6_4([1,1]))\n",
        "print(predict_6_4([1,0]))\n",
        "print(predict_6_4([0,1]))\n",
        "print(predict_6_4([0,0]))"
      ],
      "metadata": {
        "colab": {
          "base_uri": "https://localhost:8080/"
        },
        "id": "NOjl0bM_NkYC",
        "outputId": "eb9ee931-c2c2-4975-f549-444a47e84609"
      },
      "execution_count": 54,
      "outputs": [
        {
          "output_type": "stream",
          "name": "stdout",
          "text": [
            "0\n",
            "1\n",
            "1\n",
            "0\n"
          ]
        }
      ]
    }
  ]
}